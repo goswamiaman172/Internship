{
  "nbformat": 4,
  "nbformat_minor": 0,
  "metadata": {
    "colab": {
      "provenance": [],
      "authorship_tag": "ABX9TyMWvt1u5tmNcesLQ6UlH3CN",
      "include_colab_link": true
    },
    "kernelspec": {
      "name": "python3",
      "display_name": "Python 3"
    },
    "language_info": {
      "name": "python"
    }
  },
  "cells": [
    {
      "cell_type": "markdown",
      "metadata": {
        "id": "view-in-github",
        "colab_type": "text"
      },
      "source": [
        "<a href=\"https://colab.research.google.com/github/goswamiaman172/Internship/blob/main/Happiness_score.ipynb\" target=\"_parent\"><img src=\"https://colab.research.google.com/assets/colab-badge.svg\" alt=\"Open In Colab\"/></a>"
      ]
    },
    {
      "cell_type": "markdown",
      "source": [
        "World Happiness Report Project\n",
        "\n",
        "Project Description:\n",
        "\n",
        "The World Happiness Report is a landmark survey of the state of global happiness. The first report was published in 2012, the second in 2013, the third in 2015, and the fourth in the 2016 Update. The World Happiness 2017, which ranks 155 countries by their happiness levels, was released at the United Nations at an event celebrating International Day of Happiness on March 20th. The report continues to gain global recognition as governments, organizations and civil society increasingly use happiness indicators to inform their policy-making decisions. Leading experts across fields – economics, psychology, survey analysis, national statistics, health, public policy and more – describe how measurements of well-being can be used effectively to assess the progress of nations. The reports review the state of happiness in the world today and show how the new science of happiness explains personal and national variations in happiness.\n"
      ],
      "metadata": {
        "id": "U1m1e9x4scPA"
      }
    },
    {
      "cell_type": "code",
      "execution_count": 10,
      "metadata": {
        "colab": {
          "base_uri": "https://localhost:8080/",
          "height": 17
        },
        "id": "KV_glrGwZjb6",
        "outputId": "33be96a8-2bab-4978-8864-241c8e16d627"
      },
      "outputs": [
        {
          "output_type": "display_data",
          "data": {
            "text/html": [
              "        <script type=\"text/javascript\">\n",
              "        window.PlotlyConfig = {MathJaxConfig: 'local'};\n",
              "        if (window.MathJax && window.MathJax.Hub && window.MathJax.Hub.Config) {window.MathJax.Hub.Config({SVG: {font: \"STIX-Web\"}});}\n",
              "        if (typeof require !== 'undefined') {\n",
              "        require.undef(\"plotly\");\n",
              "        requirejs.config({\n",
              "            paths: {\n",
              "                'plotly': ['https://cdn.plot.ly/plotly-2.24.1.min']\n",
              "            }\n",
              "        });\n",
              "        require(['plotly'], function(Plotly) {\n",
              "            window._Plotly = Plotly;\n",
              "        });\n",
              "        }\n",
              "        </script>\n",
              "        "
            ]
          },
          "metadata": {}
        }
      ],
      "source": [
        "import pandas as pd\n",
        "import numpy as np\n",
        "import seaborn as sb\n",
        "import matplotlib.pyplot as plt\n",
        "sb.set()\n",
        "\n",
        "# Import essential models and functions from sklearn\n",
        "from sklearn.model_selection import train_test_split\n",
        "from sklearn.model_selection import train_test_split, GridSearchCV\n",
        "from sklearn.linear_model import LinearRegression\n",
        "from sklearn.preprocessing import StandardScaler\n",
        "from sklearn import metrics\n",
        "from sklearn.metrics import confusion_matrix\n",
        "from sklearn.tree import export_graphviz\n",
        "import graphviz\n",
        "\n",
        "# Using Random Forest Classifier\n",
        "from sklearn.ensemble import RandomForestClassifier\n",
        "\n",
        "# Import essential models and functions from plotly\n",
        "import plotly\n",
        "import plotly.offline as py\n",
        "import plotly.graph_objs as go\n",
        "from plotly.offline import download_plotlyjs, init_notebook_mode, plot, iplot\n",
        "\n",
        "# Allows us to use Plotly offline\n",
        "init_notebook_mode(connected=True)"
      ]
    },
    {
      "cell_type": "code",
      "source": [
        "from google.colab import drive\n",
        "drive.mount('/content/drive')"
      ],
      "metadata": {
        "colab": {
          "base_uri": "https://localhost:8080/"
        },
        "id": "yOgusQyXZm-E",
        "outputId": "1cff72c2-faa7-4c1e-b05e-5f8c2f1dd6e7"
      },
      "execution_count": 11,
      "outputs": [
        {
          "output_type": "stream",
          "name": "stdout",
          "text": [
            "Drive already mounted at /content/drive; to attempt to forcibly remount, call drive.mount(\"/content/drive\", force_remount=True).\n"
          ]
        }
      ]
    },
    {
      "cell_type": "code",
      "source": [
        "dir_path='/content/drive/MyDrive/Project Internship Flip robo/Project3/Data/happiness_score_dataset.csv'"
      ],
      "metadata": {
        "id": "VJV2Fd6iZ7HJ"
      },
      "execution_count": 12,
      "outputs": []
    },
    {
      "cell_type": "code",
      "source": [
        "df = pd.read_csv(dir_path)"
      ],
      "metadata": {
        "id": "z_XHiVnLaGO_"
      },
      "execution_count": 13,
      "outputs": []
    },
    {
      "cell_type": "code",
      "source": [
        "df.info()"
      ],
      "metadata": {
        "colab": {
          "base_uri": "https://localhost:8080/"
        },
        "id": "HlJEuj9PaJfd",
        "outputId": "91a210d1-f57e-45b5-be05-75eb1a1af336"
      },
      "execution_count": 14,
      "outputs": [
        {
          "output_type": "stream",
          "name": "stdout",
          "text": [
            "<class 'pandas.core.frame.DataFrame'>\n",
            "RangeIndex: 158 entries, 0 to 157\n",
            "Data columns (total 12 columns):\n",
            " #   Column                         Non-Null Count  Dtype  \n",
            "---  ------                         --------------  -----  \n",
            " 0   Country                        158 non-null    object \n",
            " 1   Region                         158 non-null    object \n",
            " 2   Happiness Rank                 158 non-null    int64  \n",
            " 3   Happiness Score                158 non-null    float64\n",
            " 4   Standard Error                 158 non-null    float64\n",
            " 5   Economy (GDP per Capita)       158 non-null    float64\n",
            " 6   Family                         158 non-null    float64\n",
            " 7   Health (Life Expectancy)       158 non-null    float64\n",
            " 8   Freedom                        158 non-null    float64\n",
            " 9   Trust (Government Corruption)  158 non-null    float64\n",
            " 10  Generosity                     158 non-null    float64\n",
            " 11  Dystopia Residual              158 non-null    float64\n",
            "dtypes: float64(9), int64(1), object(2)\n",
            "memory usage: 14.9+ KB\n"
          ]
        }
      ]
    },
    {
      "cell_type": "code",
      "source": [
        "df.columns"
      ],
      "metadata": {
        "colab": {
          "base_uri": "https://localhost:8080/"
        },
        "id": "LvZJA-5um-sa",
        "outputId": "8be61e12-b8ca-4805-890c-21a6e8c168c5"
      },
      "execution_count": 15,
      "outputs": [
        {
          "output_type": "execute_result",
          "data": {
            "text/plain": [
              "Index(['Country', 'Region', 'Happiness Rank', 'Happiness Score',\n",
              "       'Standard Error', 'Economy (GDP per Capita)', 'Family',\n",
              "       'Health (Life Expectancy)', 'Freedom', 'Trust (Government Corruption)',\n",
              "       'Generosity', 'Dystopia Residual'],\n",
              "      dtype='object')"
            ]
          },
          "metadata": {},
          "execution_count": 15
        }
      ]
    },
    {
      "cell_type": "code",
      "source": [
        "df[df[\"Country\"]=='India']"
      ],
      "metadata": {
        "colab": {
          "base_uri": "https://localhost:8080/",
          "height": 115
        },
        "id": "ClTXBgTGaP_s",
        "outputId": "3e2e4e27-647c-4fe3-a0ff-2653a394e5e9"
      },
      "execution_count": 16,
      "outputs": [
        {
          "output_type": "execute_result",
          "data": {
            "text/plain": [
              "    Country         Region  Happiness Rank  Happiness Score  Standard Error  \\\n",
              "116   India  Southern Asia             117            4.565         0.02043   \n",
              "\n",
              "     Economy (GDP per Capita)   Family  Health (Life Expectancy)  Freedom  \\\n",
              "116                   0.64499  0.38174                   0.51529  0.39786   \n",
              "\n",
              "     Trust (Government Corruption)  Generosity  Dystopia Residual  \n",
              "116                        0.08492     0.26475            2.27513  "
            ],
            "text/html": [
              "\n",
              "  <div id=\"df-9e7fd427-54ac-4bed-8956-dd0cad314ce6\" class=\"colab-df-container\">\n",
              "    <div>\n",
              "<style scoped>\n",
              "    .dataframe tbody tr th:only-of-type {\n",
              "        vertical-align: middle;\n",
              "    }\n",
              "\n",
              "    .dataframe tbody tr th {\n",
              "        vertical-align: top;\n",
              "    }\n",
              "\n",
              "    .dataframe thead th {\n",
              "        text-align: right;\n",
              "    }\n",
              "</style>\n",
              "<table border=\"1\" class=\"dataframe\">\n",
              "  <thead>\n",
              "    <tr style=\"text-align: right;\">\n",
              "      <th></th>\n",
              "      <th>Country</th>\n",
              "      <th>Region</th>\n",
              "      <th>Happiness Rank</th>\n",
              "      <th>Happiness Score</th>\n",
              "      <th>Standard Error</th>\n",
              "      <th>Economy (GDP per Capita)</th>\n",
              "      <th>Family</th>\n",
              "      <th>Health (Life Expectancy)</th>\n",
              "      <th>Freedom</th>\n",
              "      <th>Trust (Government Corruption)</th>\n",
              "      <th>Generosity</th>\n",
              "      <th>Dystopia Residual</th>\n",
              "    </tr>\n",
              "  </thead>\n",
              "  <tbody>\n",
              "    <tr>\n",
              "      <th>116</th>\n",
              "      <td>India</td>\n",
              "      <td>Southern Asia</td>\n",
              "      <td>117</td>\n",
              "      <td>4.565</td>\n",
              "      <td>0.02043</td>\n",
              "      <td>0.64499</td>\n",
              "      <td>0.38174</td>\n",
              "      <td>0.51529</td>\n",
              "      <td>0.39786</td>\n",
              "      <td>0.08492</td>\n",
              "      <td>0.26475</td>\n",
              "      <td>2.27513</td>\n",
              "    </tr>\n",
              "  </tbody>\n",
              "</table>\n",
              "</div>\n",
              "    <div class=\"colab-df-buttons\">\n",
              "\n",
              "  <div class=\"colab-df-container\">\n",
              "    <button class=\"colab-df-convert\" onclick=\"convertToInteractive('df-9e7fd427-54ac-4bed-8956-dd0cad314ce6')\"\n",
              "            title=\"Convert this dataframe to an interactive table.\"\n",
              "            style=\"display:none;\">\n",
              "\n",
              "  <svg xmlns=\"http://www.w3.org/2000/svg\" height=\"24px\" viewBox=\"0 -960 960 960\">\n",
              "    <path d=\"M120-120v-720h720v720H120Zm60-500h600v-160H180v160Zm220 220h160v-160H400v160Zm0 220h160v-160H400v160ZM180-400h160v-160H180v160Zm440 0h160v-160H620v160ZM180-180h160v-160H180v160Zm440 0h160v-160H620v160Z\"/>\n",
              "  </svg>\n",
              "    </button>\n",
              "\n",
              "  <style>\n",
              "    .colab-df-container {\n",
              "      display:flex;\n",
              "      gap: 12px;\n",
              "    }\n",
              "\n",
              "    .colab-df-convert {\n",
              "      background-color: #E8F0FE;\n",
              "      border: none;\n",
              "      border-radius: 50%;\n",
              "      cursor: pointer;\n",
              "      display: none;\n",
              "      fill: #1967D2;\n",
              "      height: 32px;\n",
              "      padding: 0 0 0 0;\n",
              "      width: 32px;\n",
              "    }\n",
              "\n",
              "    .colab-df-convert:hover {\n",
              "      background-color: #E2EBFA;\n",
              "      box-shadow: 0px 1px 2px rgba(60, 64, 67, 0.3), 0px 1px 3px 1px rgba(60, 64, 67, 0.15);\n",
              "      fill: #174EA6;\n",
              "    }\n",
              "\n",
              "    .colab-df-buttons div {\n",
              "      margin-bottom: 4px;\n",
              "    }\n",
              "\n",
              "    [theme=dark] .colab-df-convert {\n",
              "      background-color: #3B4455;\n",
              "      fill: #D2E3FC;\n",
              "    }\n",
              "\n",
              "    [theme=dark] .colab-df-convert:hover {\n",
              "      background-color: #434B5C;\n",
              "      box-shadow: 0px 1px 3px 1px rgba(0, 0, 0, 0.15);\n",
              "      filter: drop-shadow(0px 1px 2px rgba(0, 0, 0, 0.3));\n",
              "      fill: #FFFFFF;\n",
              "    }\n",
              "  </style>\n",
              "\n",
              "    <script>\n",
              "      const buttonEl =\n",
              "        document.querySelector('#df-9e7fd427-54ac-4bed-8956-dd0cad314ce6 button.colab-df-convert');\n",
              "      buttonEl.style.display =\n",
              "        google.colab.kernel.accessAllowed ? 'block' : 'none';\n",
              "\n",
              "      async function convertToInteractive(key) {\n",
              "        const element = document.querySelector('#df-9e7fd427-54ac-4bed-8956-dd0cad314ce6');\n",
              "        const dataTable =\n",
              "          await google.colab.kernel.invokeFunction('convertToInteractive',\n",
              "                                                    [key], {});\n",
              "        if (!dataTable) return;\n",
              "\n",
              "        const docLinkHtml = 'Like what you see? Visit the ' +\n",
              "          '<a target=\"_blank\" href=https://colab.research.google.com/notebooks/data_table.ipynb>data table notebook</a>'\n",
              "          + ' to learn more about interactive tables.';\n",
              "        element.innerHTML = '';\n",
              "        dataTable['output_type'] = 'display_data';\n",
              "        await google.colab.output.renderOutput(dataTable, element);\n",
              "        const docLink = document.createElement('div');\n",
              "        docLink.innerHTML = docLinkHtml;\n",
              "        element.appendChild(docLink);\n",
              "      }\n",
              "    </script>\n",
              "  </div>\n",
              "\n",
              "    </div>\n",
              "  </div>\n"
            ]
          },
          "metadata": {},
          "execution_count": 16
        }
      ]
    },
    {
      "cell_type": "code",
      "source": [
        "df.head()"
      ],
      "metadata": {
        "colab": {
          "base_uri": "https://localhost:8080/",
          "height": 310
        },
        "id": "SzIKG-kCj239",
        "outputId": "ba3423ad-ef36-45e7-ea35-5b22b4590a3d"
      },
      "execution_count": 17,
      "outputs": [
        {
          "output_type": "execute_result",
          "data": {
            "text/plain": [
              "       Country          Region  Happiness Rank  Happiness Score  \\\n",
              "0  Switzerland  Western Europe               1            7.587   \n",
              "1      Iceland  Western Europe               2            7.561   \n",
              "2      Denmark  Western Europe               3            7.527   \n",
              "3       Norway  Western Europe               4            7.522   \n",
              "4       Canada   North America               5            7.427   \n",
              "\n",
              "   Standard Error  Economy (GDP per Capita)   Family  \\\n",
              "0         0.03411                   1.39651  1.34951   \n",
              "1         0.04884                   1.30232  1.40223   \n",
              "2         0.03328                   1.32548  1.36058   \n",
              "3         0.03880                   1.45900  1.33095   \n",
              "4         0.03553                   1.32629  1.32261   \n",
              "\n",
              "   Health (Life Expectancy)  Freedom  Trust (Government Corruption)  \\\n",
              "0                   0.94143  0.66557                        0.41978   \n",
              "1                   0.94784  0.62877                        0.14145   \n",
              "2                   0.87464  0.64938                        0.48357   \n",
              "3                   0.88521  0.66973                        0.36503   \n",
              "4                   0.90563  0.63297                        0.32957   \n",
              "\n",
              "   Generosity  Dystopia Residual  \n",
              "0     0.29678            2.51738  \n",
              "1     0.43630            2.70201  \n",
              "2     0.34139            2.49204  \n",
              "3     0.34699            2.46531  \n",
              "4     0.45811            2.45176  "
            ],
            "text/html": [
              "\n",
              "  <div id=\"df-1a089cdd-14c0-419e-b921-00f61eaade99\" class=\"colab-df-container\">\n",
              "    <div>\n",
              "<style scoped>\n",
              "    .dataframe tbody tr th:only-of-type {\n",
              "        vertical-align: middle;\n",
              "    }\n",
              "\n",
              "    .dataframe tbody tr th {\n",
              "        vertical-align: top;\n",
              "    }\n",
              "\n",
              "    .dataframe thead th {\n",
              "        text-align: right;\n",
              "    }\n",
              "</style>\n",
              "<table border=\"1\" class=\"dataframe\">\n",
              "  <thead>\n",
              "    <tr style=\"text-align: right;\">\n",
              "      <th></th>\n",
              "      <th>Country</th>\n",
              "      <th>Region</th>\n",
              "      <th>Happiness Rank</th>\n",
              "      <th>Happiness Score</th>\n",
              "      <th>Standard Error</th>\n",
              "      <th>Economy (GDP per Capita)</th>\n",
              "      <th>Family</th>\n",
              "      <th>Health (Life Expectancy)</th>\n",
              "      <th>Freedom</th>\n",
              "      <th>Trust (Government Corruption)</th>\n",
              "      <th>Generosity</th>\n",
              "      <th>Dystopia Residual</th>\n",
              "    </tr>\n",
              "  </thead>\n",
              "  <tbody>\n",
              "    <tr>\n",
              "      <th>0</th>\n",
              "      <td>Switzerland</td>\n",
              "      <td>Western Europe</td>\n",
              "      <td>1</td>\n",
              "      <td>7.587</td>\n",
              "      <td>0.03411</td>\n",
              "      <td>1.39651</td>\n",
              "      <td>1.34951</td>\n",
              "      <td>0.94143</td>\n",
              "      <td>0.66557</td>\n",
              "      <td>0.41978</td>\n",
              "      <td>0.29678</td>\n",
              "      <td>2.51738</td>\n",
              "    </tr>\n",
              "    <tr>\n",
              "      <th>1</th>\n",
              "      <td>Iceland</td>\n",
              "      <td>Western Europe</td>\n",
              "      <td>2</td>\n",
              "      <td>7.561</td>\n",
              "      <td>0.04884</td>\n",
              "      <td>1.30232</td>\n",
              "      <td>1.40223</td>\n",
              "      <td>0.94784</td>\n",
              "      <td>0.62877</td>\n",
              "      <td>0.14145</td>\n",
              "      <td>0.43630</td>\n",
              "      <td>2.70201</td>\n",
              "    </tr>\n",
              "    <tr>\n",
              "      <th>2</th>\n",
              "      <td>Denmark</td>\n",
              "      <td>Western Europe</td>\n",
              "      <td>3</td>\n",
              "      <td>7.527</td>\n",
              "      <td>0.03328</td>\n",
              "      <td>1.32548</td>\n",
              "      <td>1.36058</td>\n",
              "      <td>0.87464</td>\n",
              "      <td>0.64938</td>\n",
              "      <td>0.48357</td>\n",
              "      <td>0.34139</td>\n",
              "      <td>2.49204</td>\n",
              "    </tr>\n",
              "    <tr>\n",
              "      <th>3</th>\n",
              "      <td>Norway</td>\n",
              "      <td>Western Europe</td>\n",
              "      <td>4</td>\n",
              "      <td>7.522</td>\n",
              "      <td>0.03880</td>\n",
              "      <td>1.45900</td>\n",
              "      <td>1.33095</td>\n",
              "      <td>0.88521</td>\n",
              "      <td>0.66973</td>\n",
              "      <td>0.36503</td>\n",
              "      <td>0.34699</td>\n",
              "      <td>2.46531</td>\n",
              "    </tr>\n",
              "    <tr>\n",
              "      <th>4</th>\n",
              "      <td>Canada</td>\n",
              "      <td>North America</td>\n",
              "      <td>5</td>\n",
              "      <td>7.427</td>\n",
              "      <td>0.03553</td>\n",
              "      <td>1.32629</td>\n",
              "      <td>1.32261</td>\n",
              "      <td>0.90563</td>\n",
              "      <td>0.63297</td>\n",
              "      <td>0.32957</td>\n",
              "      <td>0.45811</td>\n",
              "      <td>2.45176</td>\n",
              "    </tr>\n",
              "  </tbody>\n",
              "</table>\n",
              "</div>\n",
              "    <div class=\"colab-df-buttons\">\n",
              "\n",
              "  <div class=\"colab-df-container\">\n",
              "    <button class=\"colab-df-convert\" onclick=\"convertToInteractive('df-1a089cdd-14c0-419e-b921-00f61eaade99')\"\n",
              "            title=\"Convert this dataframe to an interactive table.\"\n",
              "            style=\"display:none;\">\n",
              "\n",
              "  <svg xmlns=\"http://www.w3.org/2000/svg\" height=\"24px\" viewBox=\"0 -960 960 960\">\n",
              "    <path d=\"M120-120v-720h720v720H120Zm60-500h600v-160H180v160Zm220 220h160v-160H400v160Zm0 220h160v-160H400v160ZM180-400h160v-160H180v160Zm440 0h160v-160H620v160ZM180-180h160v-160H180v160Zm440 0h160v-160H620v160Z\"/>\n",
              "  </svg>\n",
              "    </button>\n",
              "\n",
              "  <style>\n",
              "    .colab-df-container {\n",
              "      display:flex;\n",
              "      gap: 12px;\n",
              "    }\n",
              "\n",
              "    .colab-df-convert {\n",
              "      background-color: #E8F0FE;\n",
              "      border: none;\n",
              "      border-radius: 50%;\n",
              "      cursor: pointer;\n",
              "      display: none;\n",
              "      fill: #1967D2;\n",
              "      height: 32px;\n",
              "      padding: 0 0 0 0;\n",
              "      width: 32px;\n",
              "    }\n",
              "\n",
              "    .colab-df-convert:hover {\n",
              "      background-color: #E2EBFA;\n",
              "      box-shadow: 0px 1px 2px rgba(60, 64, 67, 0.3), 0px 1px 3px 1px rgba(60, 64, 67, 0.15);\n",
              "      fill: #174EA6;\n",
              "    }\n",
              "\n",
              "    .colab-df-buttons div {\n",
              "      margin-bottom: 4px;\n",
              "    }\n",
              "\n",
              "    [theme=dark] .colab-df-convert {\n",
              "      background-color: #3B4455;\n",
              "      fill: #D2E3FC;\n",
              "    }\n",
              "\n",
              "    [theme=dark] .colab-df-convert:hover {\n",
              "      background-color: #434B5C;\n",
              "      box-shadow: 0px 1px 3px 1px rgba(0, 0, 0, 0.15);\n",
              "      filter: drop-shadow(0px 1px 2px rgba(0, 0, 0, 0.3));\n",
              "      fill: #FFFFFF;\n",
              "    }\n",
              "  </style>\n",
              "\n",
              "    <script>\n",
              "      const buttonEl =\n",
              "        document.querySelector('#df-1a089cdd-14c0-419e-b921-00f61eaade99 button.colab-df-convert');\n",
              "      buttonEl.style.display =\n",
              "        google.colab.kernel.accessAllowed ? 'block' : 'none';\n",
              "\n",
              "      async function convertToInteractive(key) {\n",
              "        const element = document.querySelector('#df-1a089cdd-14c0-419e-b921-00f61eaade99');\n",
              "        const dataTable =\n",
              "          await google.colab.kernel.invokeFunction('convertToInteractive',\n",
              "                                                    [key], {});\n",
              "        if (!dataTable) return;\n",
              "\n",
              "        const docLinkHtml = 'Like what you see? Visit the ' +\n",
              "          '<a target=\"_blank\" href=https://colab.research.google.com/notebooks/data_table.ipynb>data table notebook</a>'\n",
              "          + ' to learn more about interactive tables.';\n",
              "        element.innerHTML = '';\n",
              "        dataTable['output_type'] = 'display_data';\n",
              "        await google.colab.output.renderOutput(dataTable, element);\n",
              "        const docLink = document.createElement('div');\n",
              "        docLink.innerHTML = docLinkHtml;\n",
              "        element.appendChild(docLink);\n",
              "      }\n",
              "    </script>\n",
              "  </div>\n",
              "\n",
              "\n",
              "<div id=\"df-134e6293-268f-4f5d-86fd-1c946bf47252\">\n",
              "  <button class=\"colab-df-quickchart\" onclick=\"quickchart('df-134e6293-268f-4f5d-86fd-1c946bf47252')\"\n",
              "            title=\"Suggest charts\"\n",
              "            style=\"display:none;\">\n",
              "\n",
              "<svg xmlns=\"http://www.w3.org/2000/svg\" height=\"24px\"viewBox=\"0 0 24 24\"\n",
              "     width=\"24px\">\n",
              "    <g>\n",
              "        <path d=\"M19 3H5c-1.1 0-2 .9-2 2v14c0 1.1.9 2 2 2h14c1.1 0 2-.9 2-2V5c0-1.1-.9-2-2-2zM9 17H7v-7h2v7zm4 0h-2V7h2v10zm4 0h-2v-4h2v4z\"/>\n",
              "    </g>\n",
              "</svg>\n",
              "  </button>\n",
              "\n",
              "<style>\n",
              "  .colab-df-quickchart {\n",
              "      --bg-color: #E8F0FE;\n",
              "      --fill-color: #1967D2;\n",
              "      --hover-bg-color: #E2EBFA;\n",
              "      --hover-fill-color: #174EA6;\n",
              "      --disabled-fill-color: #AAA;\n",
              "      --disabled-bg-color: #DDD;\n",
              "  }\n",
              "\n",
              "  [theme=dark] .colab-df-quickchart {\n",
              "      --bg-color: #3B4455;\n",
              "      --fill-color: #D2E3FC;\n",
              "      --hover-bg-color: #434B5C;\n",
              "      --hover-fill-color: #FFFFFF;\n",
              "      --disabled-bg-color: #3B4455;\n",
              "      --disabled-fill-color: #666;\n",
              "  }\n",
              "\n",
              "  .colab-df-quickchart {\n",
              "    background-color: var(--bg-color);\n",
              "    border: none;\n",
              "    border-radius: 50%;\n",
              "    cursor: pointer;\n",
              "    display: none;\n",
              "    fill: var(--fill-color);\n",
              "    height: 32px;\n",
              "    padding: 0;\n",
              "    width: 32px;\n",
              "  }\n",
              "\n",
              "  .colab-df-quickchart:hover {\n",
              "    background-color: var(--hover-bg-color);\n",
              "    box-shadow: 0 1px 2px rgba(60, 64, 67, 0.3), 0 1px 3px 1px rgba(60, 64, 67, 0.15);\n",
              "    fill: var(--button-hover-fill-color);\n",
              "  }\n",
              "\n",
              "  .colab-df-quickchart-complete:disabled,\n",
              "  .colab-df-quickchart-complete:disabled:hover {\n",
              "    background-color: var(--disabled-bg-color);\n",
              "    fill: var(--disabled-fill-color);\n",
              "    box-shadow: none;\n",
              "  }\n",
              "\n",
              "  .colab-df-spinner {\n",
              "    border: 2px solid var(--fill-color);\n",
              "    border-color: transparent;\n",
              "    border-bottom-color: var(--fill-color);\n",
              "    animation:\n",
              "      spin 1s steps(1) infinite;\n",
              "  }\n",
              "\n",
              "  @keyframes spin {\n",
              "    0% {\n",
              "      border-color: transparent;\n",
              "      border-bottom-color: var(--fill-color);\n",
              "      border-left-color: var(--fill-color);\n",
              "    }\n",
              "    20% {\n",
              "      border-color: transparent;\n",
              "      border-left-color: var(--fill-color);\n",
              "      border-top-color: var(--fill-color);\n",
              "    }\n",
              "    30% {\n",
              "      border-color: transparent;\n",
              "      border-left-color: var(--fill-color);\n",
              "      border-top-color: var(--fill-color);\n",
              "      border-right-color: var(--fill-color);\n",
              "    }\n",
              "    40% {\n",
              "      border-color: transparent;\n",
              "      border-right-color: var(--fill-color);\n",
              "      border-top-color: var(--fill-color);\n",
              "    }\n",
              "    60% {\n",
              "      border-color: transparent;\n",
              "      border-right-color: var(--fill-color);\n",
              "    }\n",
              "    80% {\n",
              "      border-color: transparent;\n",
              "      border-right-color: var(--fill-color);\n",
              "      border-bottom-color: var(--fill-color);\n",
              "    }\n",
              "    90% {\n",
              "      border-color: transparent;\n",
              "      border-bottom-color: var(--fill-color);\n",
              "    }\n",
              "  }\n",
              "</style>\n",
              "\n",
              "  <script>\n",
              "    async function quickchart(key) {\n",
              "      const quickchartButtonEl =\n",
              "        document.querySelector('#' + key + ' button');\n",
              "      quickchartButtonEl.disabled = true;  // To prevent multiple clicks.\n",
              "      quickchartButtonEl.classList.add('colab-df-spinner');\n",
              "      try {\n",
              "        const charts = await google.colab.kernel.invokeFunction(\n",
              "            'suggestCharts', [key], {});\n",
              "      } catch (error) {\n",
              "        console.error('Error during call to suggestCharts:', error);\n",
              "      }\n",
              "      quickchartButtonEl.classList.remove('colab-df-spinner');\n",
              "      quickchartButtonEl.classList.add('colab-df-quickchart-complete');\n",
              "    }\n",
              "    (() => {\n",
              "      let quickchartButtonEl =\n",
              "        document.querySelector('#df-134e6293-268f-4f5d-86fd-1c946bf47252 button');\n",
              "      quickchartButtonEl.style.display =\n",
              "        google.colab.kernel.accessAllowed ? 'block' : 'none';\n",
              "    })();\n",
              "  </script>\n",
              "</div>\n",
              "    </div>\n",
              "  </div>\n"
            ]
          },
          "metadata": {},
          "execution_count": 17
        }
      ]
    },
    {
      "cell_type": "code",
      "source": [
        "df.head(1)"
      ],
      "metadata": {
        "colab": {
          "base_uri": "https://localhost:8080/",
          "height": 115
        },
        "id": "trbfHdBAaVcc",
        "outputId": "4fd7228c-4c00-4468-ca8b-6543863b8dac"
      },
      "execution_count": 18,
      "outputs": [
        {
          "output_type": "execute_result",
          "data": {
            "text/plain": [
              "       Country          Region  Happiness Rank  Happiness Score  \\\n",
              "0  Switzerland  Western Europe               1            7.587   \n",
              "\n",
              "   Standard Error  Economy (GDP per Capita)   Family  \\\n",
              "0         0.03411                   1.39651  1.34951   \n",
              "\n",
              "   Health (Life Expectancy)  Freedom  Trust (Government Corruption)  \\\n",
              "0                   0.94143  0.66557                        0.41978   \n",
              "\n",
              "   Generosity  Dystopia Residual  \n",
              "0     0.29678            2.51738  "
            ],
            "text/html": [
              "\n",
              "  <div id=\"df-279bc751-1202-48ac-b6bc-11c085319ada\" class=\"colab-df-container\">\n",
              "    <div>\n",
              "<style scoped>\n",
              "    .dataframe tbody tr th:only-of-type {\n",
              "        vertical-align: middle;\n",
              "    }\n",
              "\n",
              "    .dataframe tbody tr th {\n",
              "        vertical-align: top;\n",
              "    }\n",
              "\n",
              "    .dataframe thead th {\n",
              "        text-align: right;\n",
              "    }\n",
              "</style>\n",
              "<table border=\"1\" class=\"dataframe\">\n",
              "  <thead>\n",
              "    <tr style=\"text-align: right;\">\n",
              "      <th></th>\n",
              "      <th>Country</th>\n",
              "      <th>Region</th>\n",
              "      <th>Happiness Rank</th>\n",
              "      <th>Happiness Score</th>\n",
              "      <th>Standard Error</th>\n",
              "      <th>Economy (GDP per Capita)</th>\n",
              "      <th>Family</th>\n",
              "      <th>Health (Life Expectancy)</th>\n",
              "      <th>Freedom</th>\n",
              "      <th>Trust (Government Corruption)</th>\n",
              "      <th>Generosity</th>\n",
              "      <th>Dystopia Residual</th>\n",
              "    </tr>\n",
              "  </thead>\n",
              "  <tbody>\n",
              "    <tr>\n",
              "      <th>0</th>\n",
              "      <td>Switzerland</td>\n",
              "      <td>Western Europe</td>\n",
              "      <td>1</td>\n",
              "      <td>7.587</td>\n",
              "      <td>0.03411</td>\n",
              "      <td>1.39651</td>\n",
              "      <td>1.34951</td>\n",
              "      <td>0.94143</td>\n",
              "      <td>0.66557</td>\n",
              "      <td>0.41978</td>\n",
              "      <td>0.29678</td>\n",
              "      <td>2.51738</td>\n",
              "    </tr>\n",
              "  </tbody>\n",
              "</table>\n",
              "</div>\n",
              "    <div class=\"colab-df-buttons\">\n",
              "\n",
              "  <div class=\"colab-df-container\">\n",
              "    <button class=\"colab-df-convert\" onclick=\"convertToInteractive('df-279bc751-1202-48ac-b6bc-11c085319ada')\"\n",
              "            title=\"Convert this dataframe to an interactive table.\"\n",
              "            style=\"display:none;\">\n",
              "\n",
              "  <svg xmlns=\"http://www.w3.org/2000/svg\" height=\"24px\" viewBox=\"0 -960 960 960\">\n",
              "    <path d=\"M120-120v-720h720v720H120Zm60-500h600v-160H180v160Zm220 220h160v-160H400v160Zm0 220h160v-160H400v160ZM180-400h160v-160H180v160Zm440 0h160v-160H620v160ZM180-180h160v-160H180v160Zm440 0h160v-160H620v160Z\"/>\n",
              "  </svg>\n",
              "    </button>\n",
              "\n",
              "  <style>\n",
              "    .colab-df-container {\n",
              "      display:flex;\n",
              "      gap: 12px;\n",
              "    }\n",
              "\n",
              "    .colab-df-convert {\n",
              "      background-color: #E8F0FE;\n",
              "      border: none;\n",
              "      border-radius: 50%;\n",
              "      cursor: pointer;\n",
              "      display: none;\n",
              "      fill: #1967D2;\n",
              "      height: 32px;\n",
              "      padding: 0 0 0 0;\n",
              "      width: 32px;\n",
              "    }\n",
              "\n",
              "    .colab-df-convert:hover {\n",
              "      background-color: #E2EBFA;\n",
              "      box-shadow: 0px 1px 2px rgba(60, 64, 67, 0.3), 0px 1px 3px 1px rgba(60, 64, 67, 0.15);\n",
              "      fill: #174EA6;\n",
              "    }\n",
              "\n",
              "    .colab-df-buttons div {\n",
              "      margin-bottom: 4px;\n",
              "    }\n",
              "\n",
              "    [theme=dark] .colab-df-convert {\n",
              "      background-color: #3B4455;\n",
              "      fill: #D2E3FC;\n",
              "    }\n",
              "\n",
              "    [theme=dark] .colab-df-convert:hover {\n",
              "      background-color: #434B5C;\n",
              "      box-shadow: 0px 1px 3px 1px rgba(0, 0, 0, 0.15);\n",
              "      filter: drop-shadow(0px 1px 2px rgba(0, 0, 0, 0.3));\n",
              "      fill: #FFFFFF;\n",
              "    }\n",
              "  </style>\n",
              "\n",
              "    <script>\n",
              "      const buttonEl =\n",
              "        document.querySelector('#df-279bc751-1202-48ac-b6bc-11c085319ada button.colab-df-convert');\n",
              "      buttonEl.style.display =\n",
              "        google.colab.kernel.accessAllowed ? 'block' : 'none';\n",
              "\n",
              "      async function convertToInteractive(key) {\n",
              "        const element = document.querySelector('#df-279bc751-1202-48ac-b6bc-11c085319ada');\n",
              "        const dataTable =\n",
              "          await google.colab.kernel.invokeFunction('convertToInteractive',\n",
              "                                                    [key], {});\n",
              "        if (!dataTable) return;\n",
              "\n",
              "        const docLinkHtml = 'Like what you see? Visit the ' +\n",
              "          '<a target=\"_blank\" href=https://colab.research.google.com/notebooks/data_table.ipynb>data table notebook</a>'\n",
              "          + ' to learn more about interactive tables.';\n",
              "        element.innerHTML = '';\n",
              "        dataTable['output_type'] = 'display_data';\n",
              "        await google.colab.output.renderOutput(dataTable, element);\n",
              "        const docLink = document.createElement('div');\n",
              "        docLink.innerHTML = docLinkHtml;\n",
              "        element.appendChild(docLink);\n",
              "      }\n",
              "    </script>\n",
              "  </div>\n",
              "\n",
              "    </div>\n",
              "  </div>\n"
            ]
          },
          "metadata": {},
          "execution_count": 18
        }
      ]
    },
    {
      "cell_type": "code",
      "source": [
        "df.tail(1)"
      ],
      "metadata": {
        "colab": {
          "base_uri": "https://localhost:8080/",
          "height": 115
        },
        "id": "XQeCMMQcaVfI",
        "outputId": "03c80bef-183b-4698-e0d8-1dd7de4f209f"
      },
      "execution_count": 19,
      "outputs": [
        {
          "output_type": "execute_result",
          "data": {
            "text/plain": [
              "    Country              Region  Happiness Rank  Happiness Score  \\\n",
              "157    Togo  Sub-Saharan Africa             158            2.839   \n",
              "\n",
              "     Standard Error  Economy (GDP per Capita)   Family  \\\n",
              "157         0.06727                   0.20868  0.13995   \n",
              "\n",
              "     Health (Life Expectancy)  Freedom  Trust (Government Corruption)  \\\n",
              "157                   0.28443  0.36453                        0.10731   \n",
              "\n",
              "     Generosity  Dystopia Residual  \n",
              "157     0.16681            1.56726  "
            ],
            "text/html": [
              "\n",
              "  <div id=\"df-5bf5770a-6e63-4858-b93c-c118eeb21ad3\" class=\"colab-df-container\">\n",
              "    <div>\n",
              "<style scoped>\n",
              "    .dataframe tbody tr th:only-of-type {\n",
              "        vertical-align: middle;\n",
              "    }\n",
              "\n",
              "    .dataframe tbody tr th {\n",
              "        vertical-align: top;\n",
              "    }\n",
              "\n",
              "    .dataframe thead th {\n",
              "        text-align: right;\n",
              "    }\n",
              "</style>\n",
              "<table border=\"1\" class=\"dataframe\">\n",
              "  <thead>\n",
              "    <tr style=\"text-align: right;\">\n",
              "      <th></th>\n",
              "      <th>Country</th>\n",
              "      <th>Region</th>\n",
              "      <th>Happiness Rank</th>\n",
              "      <th>Happiness Score</th>\n",
              "      <th>Standard Error</th>\n",
              "      <th>Economy (GDP per Capita)</th>\n",
              "      <th>Family</th>\n",
              "      <th>Health (Life Expectancy)</th>\n",
              "      <th>Freedom</th>\n",
              "      <th>Trust (Government Corruption)</th>\n",
              "      <th>Generosity</th>\n",
              "      <th>Dystopia Residual</th>\n",
              "    </tr>\n",
              "  </thead>\n",
              "  <tbody>\n",
              "    <tr>\n",
              "      <th>157</th>\n",
              "      <td>Togo</td>\n",
              "      <td>Sub-Saharan Africa</td>\n",
              "      <td>158</td>\n",
              "      <td>2.839</td>\n",
              "      <td>0.06727</td>\n",
              "      <td>0.20868</td>\n",
              "      <td>0.13995</td>\n",
              "      <td>0.28443</td>\n",
              "      <td>0.36453</td>\n",
              "      <td>0.10731</td>\n",
              "      <td>0.16681</td>\n",
              "      <td>1.56726</td>\n",
              "    </tr>\n",
              "  </tbody>\n",
              "</table>\n",
              "</div>\n",
              "    <div class=\"colab-df-buttons\">\n",
              "\n",
              "  <div class=\"colab-df-container\">\n",
              "    <button class=\"colab-df-convert\" onclick=\"convertToInteractive('df-5bf5770a-6e63-4858-b93c-c118eeb21ad3')\"\n",
              "            title=\"Convert this dataframe to an interactive table.\"\n",
              "            style=\"display:none;\">\n",
              "\n",
              "  <svg xmlns=\"http://www.w3.org/2000/svg\" height=\"24px\" viewBox=\"0 -960 960 960\">\n",
              "    <path d=\"M120-120v-720h720v720H120Zm60-500h600v-160H180v160Zm220 220h160v-160H400v160Zm0 220h160v-160H400v160ZM180-400h160v-160H180v160Zm440 0h160v-160H620v160ZM180-180h160v-160H180v160Zm440 0h160v-160H620v160Z\"/>\n",
              "  </svg>\n",
              "    </button>\n",
              "\n",
              "  <style>\n",
              "    .colab-df-container {\n",
              "      display:flex;\n",
              "      gap: 12px;\n",
              "    }\n",
              "\n",
              "    .colab-df-convert {\n",
              "      background-color: #E8F0FE;\n",
              "      border: none;\n",
              "      border-radius: 50%;\n",
              "      cursor: pointer;\n",
              "      display: none;\n",
              "      fill: #1967D2;\n",
              "      height: 32px;\n",
              "      padding: 0 0 0 0;\n",
              "      width: 32px;\n",
              "    }\n",
              "\n",
              "    .colab-df-convert:hover {\n",
              "      background-color: #E2EBFA;\n",
              "      box-shadow: 0px 1px 2px rgba(60, 64, 67, 0.3), 0px 1px 3px 1px rgba(60, 64, 67, 0.15);\n",
              "      fill: #174EA6;\n",
              "    }\n",
              "\n",
              "    .colab-df-buttons div {\n",
              "      margin-bottom: 4px;\n",
              "    }\n",
              "\n",
              "    [theme=dark] .colab-df-convert {\n",
              "      background-color: #3B4455;\n",
              "      fill: #D2E3FC;\n",
              "    }\n",
              "\n",
              "    [theme=dark] .colab-df-convert:hover {\n",
              "      background-color: #434B5C;\n",
              "      box-shadow: 0px 1px 3px 1px rgba(0, 0, 0, 0.15);\n",
              "      filter: drop-shadow(0px 1px 2px rgba(0, 0, 0, 0.3));\n",
              "      fill: #FFFFFF;\n",
              "    }\n",
              "  </style>\n",
              "\n",
              "    <script>\n",
              "      const buttonEl =\n",
              "        document.querySelector('#df-5bf5770a-6e63-4858-b93c-c118eeb21ad3 button.colab-df-convert');\n",
              "      buttonEl.style.display =\n",
              "        google.colab.kernel.accessAllowed ? 'block' : 'none';\n",
              "\n",
              "      async function convertToInteractive(key) {\n",
              "        const element = document.querySelector('#df-5bf5770a-6e63-4858-b93c-c118eeb21ad3');\n",
              "        const dataTable =\n",
              "          await google.colab.kernel.invokeFunction('convertToInteractive',\n",
              "                                                    [key], {});\n",
              "        if (!dataTable) return;\n",
              "\n",
              "        const docLinkHtml = 'Like what you see? Visit the ' +\n",
              "          '<a target=\"_blank\" href=https://colab.research.google.com/notebooks/data_table.ipynb>data table notebook</a>'\n",
              "          + ' to learn more about interactive tables.';\n",
              "        element.innerHTML = '';\n",
              "        dataTable['output_type'] = 'display_data';\n",
              "        await google.colab.output.renderOutput(dataTable, element);\n",
              "        const docLink = document.createElement('div');\n",
              "        docLink.innerHTML = docLinkHtml;\n",
              "        element.appendChild(docLink);\n",
              "      }\n",
              "    </script>\n",
              "  </div>\n",
              "\n",
              "    </div>\n",
              "  </div>\n"
            ]
          },
          "metadata": {},
          "execution_count": 19
        }
      ]
    },
    {
      "cell_type": "code",
      "source": [
        "GDP = df[\"Economy (GDP per Capita)\"] #Finding the maximum GDP per capita\n",
        "GDP.idxmax()"
      ],
      "metadata": {
        "colab": {
          "base_uri": "https://localhost:8080/"
        },
        "id": "dStIjcjAaVhr",
        "outputId": "f81fffcc-3774-45a3-d09f-9d04dd11149d"
      },
      "execution_count": 22,
      "outputs": [
        {
          "output_type": "execute_result",
          "data": {
            "text/plain": [
              "27"
            ]
          },
          "metadata": {},
          "execution_count": 22
        }
      ]
    },
    {
      "cell_type": "code",
      "source": [
        "max_gdp = df.loc[28]\n",
        "max_gdp"
      ],
      "metadata": {
        "colab": {
          "base_uri": "https://localhost:8080/"
        },
        "id": "dbwquJFEaVkR",
        "outputId": "147150fd-f6fe-470d-fb5e-b8259a865006"
      },
      "execution_count": 23,
      "outputs": [
        {
          "output_type": "execute_result",
          "data": {
            "text/plain": [
              "Country                                  France\n",
              "Region                           Western Europe\n",
              "Happiness Rank                               29\n",
              "Happiness Score                           6.575\n",
              "Standard Error                          0.03512\n",
              "Economy (GDP per Capita)                1.27778\n",
              "Family                                  1.26038\n",
              "Health (Life Expectancy)                0.94579\n",
              "Freedom                                 0.55011\n",
              "Trust (Government Corruption)           0.20646\n",
              "Generosity                              0.12332\n",
              "Dystopia Residual                       2.21126\n",
              "Name: 28, dtype: object"
            ]
          },
          "metadata": {},
          "execution_count": 23
        }
      ]
    },
    {
      "cell_type": "code",
      "source": [
        "GDP.idxmin() #Finding the minimum GDP per capita"
      ],
      "metadata": {
        "colab": {
          "base_uri": "https://localhost:8080/"
        },
        "id": "rPGsZBJUaVnt",
        "outputId": "a4be4ecb-ae40-46ac-adde-0ae1d1caa95e"
      },
      "execution_count": 24,
      "outputs": [
        {
          "output_type": "execute_result",
          "data": {
            "text/plain": [
              "119"
            ]
          },
          "metadata": {},
          "execution_count": 24
        }
      ]
    },
    {
      "cell_type": "code",
      "source": [
        "min_gdp = df.loc[111]\n",
        "min_gdp"
      ],
      "metadata": {
        "colab": {
          "base_uri": "https://localhost:8080/"
        },
        "id": "a_zVHFh-mC7S",
        "outputId": "8b7962a8-26f2-48c8-ac1a-730a4917de9c"
      },
      "execution_count": 25,
      "outputs": [
        {
          "output_type": "execute_result",
          "data": {
            "text/plain": [
              "Country                                                     Iraq\n",
              "Region                           Middle East and Northern Africa\n",
              "Happiness Rank                                               112\n",
              "Happiness Score                                            4.677\n",
              "Standard Error                                           0.05232\n",
              "Economy (GDP per Capita)                                 0.98549\n",
              "Family                                                   0.81889\n",
              "Health (Life Expectancy)                                 0.60237\n",
              "Freedom                                                      0.0\n",
              "Trust (Government Corruption)                            0.13788\n",
              "Generosity                                               0.17922\n",
              "Dystopia Residual                                        1.95335\n",
              "Name: 111, dtype: object"
            ]
          },
          "metadata": {},
          "execution_count": 25
        }
      ]
    },
    {
      "cell_type": "code",
      "source": [
        "social = df[\"Family\"] #Finding maximum social support\n",
        "social.idxmax()"
      ],
      "metadata": {
        "colab": {
          "base_uri": "https://localhost:8080/"
        },
        "id": "Oc0UrerLmFGp",
        "outputId": "c03d82cb-35db-4b36-b47f-a25da092436a"
      },
      "execution_count": 31,
      "outputs": [
        {
          "output_type": "execute_result",
          "data": {
            "text/plain": [
              "1"
            ]
          },
          "metadata": {},
          "execution_count": 31
        }
      ]
    },
    {
      "cell_type": "code",
      "source": [
        "max_social = df.loc[3]\n",
        "max_social"
      ],
      "metadata": {
        "colab": {
          "base_uri": "https://localhost:8080/"
        },
        "id": "AivHiXu3nVgg",
        "outputId": "673c92df-9077-4b30-8899-df0c353d3e86"
      },
      "execution_count": 32,
      "outputs": [
        {
          "output_type": "execute_result",
          "data": {
            "text/plain": [
              "Country                                  Norway\n",
              "Region                           Western Europe\n",
              "Happiness Rank                                4\n",
              "Happiness Score                           7.522\n",
              "Standard Error                           0.0388\n",
              "Economy (GDP per Capita)                  1.459\n",
              "Family                                  1.33095\n",
              "Health (Life Expectancy)                0.88521\n",
              "Freedom                                 0.66973\n",
              "Trust (Government Corruption)           0.36503\n",
              "Generosity                              0.34699\n",
              "Dystopia Residual                       2.46531\n",
              "Name: 3, dtype: object"
            ]
          },
          "metadata": {},
          "execution_count": 32
        }
      ]
    },
    {
      "cell_type": "code",
      "source": [
        "social.idxmin()"
      ],
      "metadata": {
        "colab": {
          "base_uri": "https://localhost:8080/"
        },
        "id": "uHim2Js6nbhQ",
        "outputId": "ff8574cc-4dee-465d-f23c-3872fdc2e05e"
      },
      "execution_count": 33,
      "outputs": [
        {
          "output_type": "execute_result",
          "data": {
            "text/plain": [
              "147"
            ]
          },
          "metadata": {},
          "execution_count": 33
        }
      ]
    },
    {
      "cell_type": "code",
      "source": [
        "min_social = df.loc[154]\n",
        "min_social"
      ],
      "metadata": {
        "colab": {
          "base_uri": "https://localhost:8080/"
        },
        "id": "iRQb5vfbnhA4",
        "outputId": "e5a95c80-f309-4fdd-b189-c2d294350369"
      },
      "execution_count": 34,
      "outputs": [
        {
          "output_type": "execute_result",
          "data": {
            "text/plain": [
              "Country                                       Benin\n",
              "Region                           Sub-Saharan Africa\n",
              "Happiness Rank                                  155\n",
              "Happiness Score                                3.34\n",
              "Standard Error                              0.03656\n",
              "Economy (GDP per Capita)                    0.28665\n",
              "Family                                      0.35386\n",
              "Health (Life Expectancy)                     0.3191\n",
              "Freedom                                      0.4845\n",
              "Trust (Government Corruption)                0.0801\n",
              "Generosity                                   0.1826\n",
              "Dystopia Residual                           1.63328\n",
              "Name: 154, dtype: object"
            ]
          },
          "metadata": {},
          "execution_count": 34
        }
      ]
    },
    {
      "cell_type": "code",
      "source": [
        "healthy = df[\"Health (Life Expectancy)\"] #Max life expectancy\n",
        "healthy.idxmax()"
      ],
      "metadata": {
        "colab": {
          "base_uri": "https://localhost:8080/"
        },
        "id": "AzWOI7-VnlDc",
        "outputId": "57bbf536-72cd-4d67-ceb3-1c59cacc2d32"
      },
      "execution_count": 36,
      "outputs": [
        {
          "output_type": "execute_result",
          "data": {
            "text/plain": [
              "23"
            ]
          },
          "metadata": {},
          "execution_count": 36
        }
      ]
    },
    {
      "cell_type": "code",
      "source": [
        "max_healthy = df.loc[33]\n",
        "max_healthy"
      ],
      "metadata": {
        "colab": {
          "base_uri": "https://localhost:8080/"
        },
        "id": "hrCYhp8AnuZt",
        "outputId": "4434199d-c2fa-4143-d171-28ed38264f2f"
      },
      "execution_count": 37,
      "outputs": [
        {
          "output_type": "execute_result",
          "data": {
            "text/plain": [
              "Country                                   Thailand\n",
              "Region                           Southeastern Asia\n",
              "Happiness Rank                                  34\n",
              "Happiness Score                              6.455\n",
              "Standard Error                             0.03557\n",
              "Economy (GDP per Capita)                    0.9669\n",
              "Family                                     1.26504\n",
              "Health (Life Expectancy)                    0.7385\n",
              "Freedom                                    0.55664\n",
              "Trust (Government Corruption)              0.03187\n",
              "Generosity                                  0.5763\n",
              "Dystopia Residual                          2.31945\n",
              "Name: 33, dtype: object"
            ]
          },
          "metadata": {},
          "execution_count": 37
        }
      ]
    },
    {
      "cell_type": "code",
      "source": [
        "healthy.idxmin() #Min life expectancy"
      ],
      "metadata": {
        "colab": {
          "base_uri": "https://localhost:8080/"
        },
        "id": "vEfH0nQGnucV",
        "outputId": "c92e1194-26ea-4259-80ac-fe601dca1feb"
      },
      "execution_count": 38,
      "outputs": [
        {
          "output_type": "execute_result",
          "data": {
            "text/plain": [
              "122"
            ]
          },
          "metadata": {},
          "execution_count": 38
        }
      ]
    },
    {
      "cell_type": "code",
      "source": [
        "min_healthy = df.loc[134]\n",
        "min_healthy"
      ],
      "metadata": {
        "colab": {
          "base_uri": "https://localhost:8080/"
        },
        "id": "QeZix1V2nue_",
        "outputId": "e58d4624-a0fd-4a28-ff85-2f0d080a4190"
      },
      "execution_count": 39,
      "outputs": [
        {
          "output_type": "execute_result",
          "data": {
            "text/plain": [
              "Country                                                    Egypt\n",
              "Region                           Middle East and Northern Africa\n",
              "Happiness Rank                                               135\n",
              "Happiness Score                                            4.194\n",
              "Standard Error                                            0.0326\n",
              "Economy (GDP per Capita)                                  0.8818\n",
              "Family                                                     0.747\n",
              "Health (Life Expectancy)                                 0.61712\n",
              "Freedom                                                  0.17288\n",
              "Trust (Government Corruption)                            0.06324\n",
              "Generosity                                               0.11291\n",
              "Dystopia Residual                                        1.59927\n",
              "Name: 134, dtype: object"
            ]
          },
          "metadata": {},
          "execution_count": 39
        }
      ]
    },
    {
      "cell_type": "code",
      "source": [
        "freedom = df[\"Freedom\"] #Max freedom\n",
        "freedom.idxmax()"
      ],
      "metadata": {
        "colab": {
          "base_uri": "https://localhost:8080/"
        },
        "id": "gcjHSKwVnuhb",
        "outputId": "a4bc3452-d1d7-4274-c445-a705aff2b9f7"
      },
      "execution_count": 40,
      "outputs": [
        {
          "output_type": "execute_result",
          "data": {
            "text/plain": [
              "3"
            ]
          },
          "metadata": {},
          "execution_count": 40
        }
      ]
    },
    {
      "cell_type": "code",
      "source": [
        "max_freedom = df.loc[40]\n",
        "max_freedom"
      ],
      "metadata": {
        "colab": {
          "base_uri": "https://localhost:8080/"
        },
        "id": "g7ED0DPWnuk1",
        "outputId": "9d33aca5-37f0-4f68-9b6c-c374e056c864"
      },
      "execution_count": 41,
      "outputs": [
        {
          "output_type": "execute_result",
          "data": {
            "text/plain": [
              "Country                                  Trinidad and Tobago\n",
              "Region                           Latin America and Caribbean\n",
              "Happiness Rank                                            41\n",
              "Happiness Score                                        6.168\n",
              "Standard Error                                       0.10895\n",
              "Economy (GDP per Capita)                             1.21183\n",
              "Family                                               1.18354\n",
              "Health (Life Expectancy)                             0.61483\n",
              "Freedom                                              0.55884\n",
              "Trust (Government Corruption)                         0.0114\n",
              "Generosity                                           0.31844\n",
              "Dystopia Residual                                    2.26882\n",
              "Name: 40, dtype: object"
            ]
          },
          "metadata": {},
          "execution_count": 41
        }
      ]
    },
    {
      "cell_type": "code",
      "source": [
        "freedom.idxmin()"
      ],
      "metadata": {
        "colab": {
          "base_uri": "https://localhost:8080/"
        },
        "id": "elc85doin9sG",
        "outputId": "400bc405-ae67-43b4-9f69-c5d4298ab582"
      },
      "execution_count": 42,
      "outputs": [
        {
          "output_type": "execute_result",
          "data": {
            "text/plain": [
              "111"
            ]
          },
          "metadata": {},
          "execution_count": 42
        }
      ]
    },
    {
      "cell_type": "code",
      "source": [
        "min_freedom = df.loc[153]\n",
        "min_freedom"
      ],
      "metadata": {
        "colab": {
          "base_uri": "https://localhost:8080/"
        },
        "id": "ixupGbZ0oCf5",
        "outputId": "f4bba2f4-106b-4352-849a-c291c844987b"
      },
      "execution_count": 43,
      "outputs": [
        {
          "output_type": "execute_result",
          "data": {
            "text/plain": [
              "Country                                      Rwanda\n",
              "Region                           Sub-Saharan Africa\n",
              "Happiness Rank                                  154\n",
              "Happiness Score                               3.465\n",
              "Standard Error                              0.03464\n",
              "Economy (GDP per Capita)                    0.22208\n",
              "Family                                       0.7737\n",
              "Health (Life Expectancy)                    0.42864\n",
              "Freedom                                     0.59201\n",
              "Trust (Government Corruption)               0.55191\n",
              "Generosity                                  0.22628\n",
              "Dystopia Residual                           0.67042\n",
              "Name: 153, dtype: object"
            ]
          },
          "metadata": {},
          "execution_count": 43
        }
      ]
    },
    {
      "cell_type": "code",
      "source": [
        "gen = df[\"Generosity\"] #Max generosity\n",
        "gen.idxmax()"
      ],
      "metadata": {
        "colab": {
          "base_uri": "https://localhost:8080/"
        },
        "id": "zQIB4CWloCio",
        "outputId": "960dd313-3973-4990-d506-baafbd6bb61f"
      },
      "execution_count": 44,
      "outputs": [
        {
          "output_type": "execute_result",
          "data": {
            "text/plain": [
              "128"
            ]
          },
          "metadata": {},
          "execution_count": 44
        }
      ]
    },
    {
      "cell_type": "code",
      "source": [
        "max_gen = df.loc[130]\n",
        "max_gen"
      ],
      "metadata": {
        "colab": {
          "base_uri": "https://localhost:8080/"
        },
        "id": "rU96BU3WoClG",
        "outputId": "f1c86699-c73c-4b63-fd11-2aa0130c3343"
      },
      "execution_count": 45,
      "outputs": [
        {
          "output_type": "execute_result",
          "data": {
            "text/plain": [
              "Country                                      Malawi\n",
              "Region                           Sub-Saharan Africa\n",
              "Happiness Rank                                  131\n",
              "Happiness Score                               4.292\n",
              "Standard Error                               0.0613\n",
              "Economy (GDP per Capita)                    0.01604\n",
              "Family                                      0.41134\n",
              "Health (Life Expectancy)                    0.22562\n",
              "Freedom                                     0.43054\n",
              "Trust (Government Corruption)               0.06977\n",
              "Generosity                                  0.33128\n",
              "Dystopia Residual                           2.80791\n",
              "Name: 130, dtype: object"
            ]
          },
          "metadata": {},
          "execution_count": 45
        }
      ]
    },
    {
      "cell_type": "code",
      "source": [
        "gen.idxmin()"
      ],
      "metadata": {
        "colab": {
          "base_uri": "https://localhost:8080/"
        },
        "id": "B-rWd5jgoUJc",
        "outputId": "b16311b6-779d-48a9-f09f-6bdb467a54a5"
      },
      "execution_count": 46,
      "outputs": [
        {
          "output_type": "execute_result",
          "data": {
            "text/plain": [
              "101"
            ]
          },
          "metadata": {},
          "execution_count": 46
        }
      ]
    },
    {
      "cell_type": "code",
      "source": [
        "min_gen = df.loc[81]\n",
        "min_gen"
      ],
      "metadata": {
        "colab": {
          "base_uri": "https://localhost:8080/"
        },
        "id": "BD2eQpQioUMi",
        "outputId": "4d8bfec0-ef9a-4d1c-ae65-1f085c868185"
      },
      "execution_count": 47,
      "outputs": [
        {
          "output_type": "execute_result",
          "data": {
            "text/plain": [
              "Country                                                   Jordan\n",
              "Region                           Middle East and Northern Africa\n",
              "Happiness Rank                                                82\n",
              "Happiness Score                                            5.192\n",
              "Standard Error                                           0.04524\n",
              "Economy (GDP per Capita)                                 0.90198\n",
              "Family                                                   1.05392\n",
              "Health (Life Expectancy)                                 0.69639\n",
              "Freedom                                                  0.40661\n",
              "Trust (Government Corruption)                            0.14293\n",
              "Generosity                                               0.11053\n",
              "Dystopia Residual                                        1.87996\n",
              "Name: 81, dtype: object"
            ]
          },
          "metadata": {},
          "execution_count": 47
        }
      ]
    },
    {
      "cell_type": "code",
      "source": [
        "cor = df[\"Trust (Government Corruption)\"] #Max corruption\n",
        "cor.idxmax()"
      ],
      "metadata": {
        "colab": {
          "base_uri": "https://localhost:8080/"
        },
        "id": "CeBo6Gq3oUP3",
        "outputId": "52ad4fae-be59-4822-e552-378e7768d873"
      },
      "execution_count": 48,
      "outputs": [
        {
          "output_type": "execute_result",
          "data": {
            "text/plain": [
              "153"
            ]
          },
          "metadata": {},
          "execution_count": 48
        }
      ]
    },
    {
      "cell_type": "code",
      "source": [
        "max_cor = df.loc[33]\n",
        "max_cor"
      ],
      "metadata": {
        "colab": {
          "base_uri": "https://localhost:8080/"
        },
        "id": "0ImcJXisoCoA",
        "outputId": "3796fb6c-8e72-468e-c509-2c5c79093ed8"
      },
      "execution_count": 49,
      "outputs": [
        {
          "output_type": "execute_result",
          "data": {
            "text/plain": [
              "Country                                   Thailand\n",
              "Region                           Southeastern Asia\n",
              "Happiness Rank                                  34\n",
              "Happiness Score                              6.455\n",
              "Standard Error                             0.03557\n",
              "Economy (GDP per Capita)                    0.9669\n",
              "Family                                     1.26504\n",
              "Health (Life Expectancy)                    0.7385\n",
              "Freedom                                    0.55664\n",
              "Trust (Government Corruption)              0.03187\n",
              "Generosity                                  0.5763\n",
              "Dystopia Residual                          2.31945\n",
              "Name: 33, dtype: object"
            ]
          },
          "metadata": {},
          "execution_count": 49
        }
      ]
    },
    {
      "cell_type": "code",
      "source": [
        "cor.idxmin() #Min corruption"
      ],
      "metadata": {
        "colab": {
          "base_uri": "https://localhost:8080/"
        },
        "id": "fCR7wO-OokJV",
        "outputId": "8b4eaed4-0564-4c84-fd97-99fe2e3dabca"
      },
      "execution_count": 50,
      "outputs": [
        {
          "output_type": "execute_result",
          "data": {
            "text/plain": [
              "73"
            ]
          },
          "metadata": {},
          "execution_count": 50
        }
      ]
    },
    {
      "cell_type": "code",
      "source": [
        "min_cor = df.loc[70]\n",
        "min_cor"
      ],
      "metadata": {
        "colab": {
          "base_uri": "https://localhost:8080/"
        },
        "id": "Yy_d0_GEokMP",
        "outputId": "2a753df3-639d-41b5-cecf-f9c99abbf618"
      },
      "execution_count": 51,
      "outputs": [
        {
          "output_type": "execute_result",
          "data": {
            "text/plain": [
              "Country                                   Mauritius\n",
              "Region                           Sub-Saharan Africa\n",
              "Happiness Rank                                   71\n",
              "Happiness Score                               5.477\n",
              "Standard Error                              0.07197\n",
              "Economy (GDP per Capita)                    1.00761\n",
              "Family                                      0.98521\n",
              "Health (Life Expectancy)                     0.7095\n",
              "Freedom                                     0.56066\n",
              "Trust (Government Corruption)               0.07521\n",
              "Generosity                                  0.37744\n",
              "Dystopia Residual                           1.76145\n",
              "Name: 70, dtype: object"
            ]
          },
          "metadata": {},
          "execution_count": 51
        }
      ]
    },
    {
      "cell_type": "code",
      "source": [
        "cor = df.corr()\n",
        "cor"
      ],
      "metadata": {
        "colab": {
          "base_uri": "https://localhost:8080/",
          "height": 522
        },
        "id": "eOuQRI0BokOz",
        "outputId": "6dbe7b92-d816-462b-9b80-a6d66bae1808"
      },
      "execution_count": 52,
      "outputs": [
        {
          "output_type": "stream",
          "name": "stderr",
          "text": [
            "<ipython-input-52-150a9db5d4b2>:1: FutureWarning:\n",
            "\n",
            "The default value of numeric_only in DataFrame.corr is deprecated. In a future version, it will default to False. Select only valid columns or specify the value of numeric_only to silence this warning.\n",
            "\n"
          ]
        },
        {
          "output_type": "execute_result",
          "data": {
            "text/plain": [
              "                               Happiness Rank  Happiness Score  \\\n",
              "Happiness Rank                       1.000000        -0.992105   \n",
              "Happiness Score                     -0.992105         1.000000   \n",
              "Standard Error                       0.158516        -0.177254   \n",
              "Economy (GDP per Capita)            -0.785267         0.780966   \n",
              "Family                              -0.733644         0.740605   \n",
              "Health (Life Expectancy)            -0.735613         0.724200   \n",
              "Freedom                             -0.556886         0.568211   \n",
              "Trust (Government Corruption)       -0.372315         0.395199   \n",
              "Generosity                          -0.160142         0.180319   \n",
              "Dystopia Residual                   -0.521999         0.530474   \n",
              "\n",
              "                               Standard Error  Economy (GDP per Capita)  \\\n",
              "Happiness Rank                       0.158516                 -0.785267   \n",
              "Happiness Score                     -0.177254                  0.780966   \n",
              "Standard Error                       1.000000                 -0.217651   \n",
              "Economy (GDP per Capita)            -0.217651                  1.000000   \n",
              "Family                              -0.120728                  0.645299   \n",
              "Health (Life Expectancy)            -0.310287                  0.816478   \n",
              "Freedom                             -0.129773                  0.370300   \n",
              "Trust (Government Corruption)       -0.178325                  0.307885   \n",
              "Generosity                          -0.088439                 -0.010465   \n",
              "Dystopia Residual                    0.083981                  0.040059   \n",
              "\n",
              "                                 Family  Health (Life Expectancy)   Freedom  \\\n",
              "Happiness Rank                -0.733644                 -0.735613 -0.556886   \n",
              "Happiness Score                0.740605                  0.724200  0.568211   \n",
              "Standard Error                -0.120728                 -0.310287 -0.129773   \n",
              "Economy (GDP per Capita)       0.645299                  0.816478  0.370300   \n",
              "Family                         1.000000                  0.531104  0.441518   \n",
              "Health (Life Expectancy)       0.531104                  1.000000  0.360477   \n",
              "Freedom                        0.441518                  0.360477  1.000000   \n",
              "Trust (Government Corruption)  0.205605                  0.248335  0.493524   \n",
              "Generosity                     0.087513                  0.108335  0.373916   \n",
              "Dystopia Residual              0.148117                  0.018979  0.062783   \n",
              "\n",
              "                               Trust (Government Corruption)  Generosity  \\\n",
              "Happiness Rank                                     -0.372315   -0.160142   \n",
              "Happiness Score                                     0.395199    0.180319   \n",
              "Standard Error                                     -0.178325   -0.088439   \n",
              "Economy (GDP per Capita)                            0.307885   -0.010465   \n",
              "Family                                              0.205605    0.087513   \n",
              "Health (Life Expectancy)                            0.248335    0.108335   \n",
              "Freedom                                             0.493524    0.373916   \n",
              "Trust (Government Corruption)                       1.000000    0.276123   \n",
              "Generosity                                          0.276123    1.000000   \n",
              "Dystopia Residual                                  -0.033105   -0.101301   \n",
              "\n",
              "                               Dystopia Residual  \n",
              "Happiness Rank                         -0.521999  \n",
              "Happiness Score                         0.530474  \n",
              "Standard Error                          0.083981  \n",
              "Economy (GDP per Capita)                0.040059  \n",
              "Family                                  0.148117  \n",
              "Health (Life Expectancy)                0.018979  \n",
              "Freedom                                 0.062783  \n",
              "Trust (Government Corruption)          -0.033105  \n",
              "Generosity                             -0.101301  \n",
              "Dystopia Residual                       1.000000  "
            ],
            "text/html": [
              "\n",
              "  <div id=\"df-331133c7-8ad9-40c2-b4a7-cee7f973b855\" class=\"colab-df-container\">\n",
              "    <div>\n",
              "<style scoped>\n",
              "    .dataframe tbody tr th:only-of-type {\n",
              "        vertical-align: middle;\n",
              "    }\n",
              "\n",
              "    .dataframe tbody tr th {\n",
              "        vertical-align: top;\n",
              "    }\n",
              "\n",
              "    .dataframe thead th {\n",
              "        text-align: right;\n",
              "    }\n",
              "</style>\n",
              "<table border=\"1\" class=\"dataframe\">\n",
              "  <thead>\n",
              "    <tr style=\"text-align: right;\">\n",
              "      <th></th>\n",
              "      <th>Happiness Rank</th>\n",
              "      <th>Happiness Score</th>\n",
              "      <th>Standard Error</th>\n",
              "      <th>Economy (GDP per Capita)</th>\n",
              "      <th>Family</th>\n",
              "      <th>Health (Life Expectancy)</th>\n",
              "      <th>Freedom</th>\n",
              "      <th>Trust (Government Corruption)</th>\n",
              "      <th>Generosity</th>\n",
              "      <th>Dystopia Residual</th>\n",
              "    </tr>\n",
              "  </thead>\n",
              "  <tbody>\n",
              "    <tr>\n",
              "      <th>Happiness Rank</th>\n",
              "      <td>1.000000</td>\n",
              "      <td>-0.992105</td>\n",
              "      <td>0.158516</td>\n",
              "      <td>-0.785267</td>\n",
              "      <td>-0.733644</td>\n",
              "      <td>-0.735613</td>\n",
              "      <td>-0.556886</td>\n",
              "      <td>-0.372315</td>\n",
              "      <td>-0.160142</td>\n",
              "      <td>-0.521999</td>\n",
              "    </tr>\n",
              "    <tr>\n",
              "      <th>Happiness Score</th>\n",
              "      <td>-0.992105</td>\n",
              "      <td>1.000000</td>\n",
              "      <td>-0.177254</td>\n",
              "      <td>0.780966</td>\n",
              "      <td>0.740605</td>\n",
              "      <td>0.724200</td>\n",
              "      <td>0.568211</td>\n",
              "      <td>0.395199</td>\n",
              "      <td>0.180319</td>\n",
              "      <td>0.530474</td>\n",
              "    </tr>\n",
              "    <tr>\n",
              "      <th>Standard Error</th>\n",
              "      <td>0.158516</td>\n",
              "      <td>-0.177254</td>\n",
              "      <td>1.000000</td>\n",
              "      <td>-0.217651</td>\n",
              "      <td>-0.120728</td>\n",
              "      <td>-0.310287</td>\n",
              "      <td>-0.129773</td>\n",
              "      <td>-0.178325</td>\n",
              "      <td>-0.088439</td>\n",
              "      <td>0.083981</td>\n",
              "    </tr>\n",
              "    <tr>\n",
              "      <th>Economy (GDP per Capita)</th>\n",
              "      <td>-0.785267</td>\n",
              "      <td>0.780966</td>\n",
              "      <td>-0.217651</td>\n",
              "      <td>1.000000</td>\n",
              "      <td>0.645299</td>\n",
              "      <td>0.816478</td>\n",
              "      <td>0.370300</td>\n",
              "      <td>0.307885</td>\n",
              "      <td>-0.010465</td>\n",
              "      <td>0.040059</td>\n",
              "    </tr>\n",
              "    <tr>\n",
              "      <th>Family</th>\n",
              "      <td>-0.733644</td>\n",
              "      <td>0.740605</td>\n",
              "      <td>-0.120728</td>\n",
              "      <td>0.645299</td>\n",
              "      <td>1.000000</td>\n",
              "      <td>0.531104</td>\n",
              "      <td>0.441518</td>\n",
              "      <td>0.205605</td>\n",
              "      <td>0.087513</td>\n",
              "      <td>0.148117</td>\n",
              "    </tr>\n",
              "    <tr>\n",
              "      <th>Health (Life Expectancy)</th>\n",
              "      <td>-0.735613</td>\n",
              "      <td>0.724200</td>\n",
              "      <td>-0.310287</td>\n",
              "      <td>0.816478</td>\n",
              "      <td>0.531104</td>\n",
              "      <td>1.000000</td>\n",
              "      <td>0.360477</td>\n",
              "      <td>0.248335</td>\n",
              "      <td>0.108335</td>\n",
              "      <td>0.018979</td>\n",
              "    </tr>\n",
              "    <tr>\n",
              "      <th>Freedom</th>\n",
              "      <td>-0.556886</td>\n",
              "      <td>0.568211</td>\n",
              "      <td>-0.129773</td>\n",
              "      <td>0.370300</td>\n",
              "      <td>0.441518</td>\n",
              "      <td>0.360477</td>\n",
              "      <td>1.000000</td>\n",
              "      <td>0.493524</td>\n",
              "      <td>0.373916</td>\n",
              "      <td>0.062783</td>\n",
              "    </tr>\n",
              "    <tr>\n",
              "      <th>Trust (Government Corruption)</th>\n",
              "      <td>-0.372315</td>\n",
              "      <td>0.395199</td>\n",
              "      <td>-0.178325</td>\n",
              "      <td>0.307885</td>\n",
              "      <td>0.205605</td>\n",
              "      <td>0.248335</td>\n",
              "      <td>0.493524</td>\n",
              "      <td>1.000000</td>\n",
              "      <td>0.276123</td>\n",
              "      <td>-0.033105</td>\n",
              "    </tr>\n",
              "    <tr>\n",
              "      <th>Generosity</th>\n",
              "      <td>-0.160142</td>\n",
              "      <td>0.180319</td>\n",
              "      <td>-0.088439</td>\n",
              "      <td>-0.010465</td>\n",
              "      <td>0.087513</td>\n",
              "      <td>0.108335</td>\n",
              "      <td>0.373916</td>\n",
              "      <td>0.276123</td>\n",
              "      <td>1.000000</td>\n",
              "      <td>-0.101301</td>\n",
              "    </tr>\n",
              "    <tr>\n",
              "      <th>Dystopia Residual</th>\n",
              "      <td>-0.521999</td>\n",
              "      <td>0.530474</td>\n",
              "      <td>0.083981</td>\n",
              "      <td>0.040059</td>\n",
              "      <td>0.148117</td>\n",
              "      <td>0.018979</td>\n",
              "      <td>0.062783</td>\n",
              "      <td>-0.033105</td>\n",
              "      <td>-0.101301</td>\n",
              "      <td>1.000000</td>\n",
              "    </tr>\n",
              "  </tbody>\n",
              "</table>\n",
              "</div>\n",
              "    <div class=\"colab-df-buttons\">\n",
              "\n",
              "  <div class=\"colab-df-container\">\n",
              "    <button class=\"colab-df-convert\" onclick=\"convertToInteractive('df-331133c7-8ad9-40c2-b4a7-cee7f973b855')\"\n",
              "            title=\"Convert this dataframe to an interactive table.\"\n",
              "            style=\"display:none;\">\n",
              "\n",
              "  <svg xmlns=\"http://www.w3.org/2000/svg\" height=\"24px\" viewBox=\"0 -960 960 960\">\n",
              "    <path d=\"M120-120v-720h720v720H120Zm60-500h600v-160H180v160Zm220 220h160v-160H400v160Zm0 220h160v-160H400v160ZM180-400h160v-160H180v160Zm440 0h160v-160H620v160ZM180-180h160v-160H180v160Zm440 0h160v-160H620v160Z\"/>\n",
              "  </svg>\n",
              "    </button>\n",
              "\n",
              "  <style>\n",
              "    .colab-df-container {\n",
              "      display:flex;\n",
              "      gap: 12px;\n",
              "    }\n",
              "\n",
              "    .colab-df-convert {\n",
              "      background-color: #E8F0FE;\n",
              "      border: none;\n",
              "      border-radius: 50%;\n",
              "      cursor: pointer;\n",
              "      display: none;\n",
              "      fill: #1967D2;\n",
              "      height: 32px;\n",
              "      padding: 0 0 0 0;\n",
              "      width: 32px;\n",
              "    }\n",
              "\n",
              "    .colab-df-convert:hover {\n",
              "      background-color: #E2EBFA;\n",
              "      box-shadow: 0px 1px 2px rgba(60, 64, 67, 0.3), 0px 1px 3px 1px rgba(60, 64, 67, 0.15);\n",
              "      fill: #174EA6;\n",
              "    }\n",
              "\n",
              "    .colab-df-buttons div {\n",
              "      margin-bottom: 4px;\n",
              "    }\n",
              "\n",
              "    [theme=dark] .colab-df-convert {\n",
              "      background-color: #3B4455;\n",
              "      fill: #D2E3FC;\n",
              "    }\n",
              "\n",
              "    [theme=dark] .colab-df-convert:hover {\n",
              "      background-color: #434B5C;\n",
              "      box-shadow: 0px 1px 3px 1px rgba(0, 0, 0, 0.15);\n",
              "      filter: drop-shadow(0px 1px 2px rgba(0, 0, 0, 0.3));\n",
              "      fill: #FFFFFF;\n",
              "    }\n",
              "  </style>\n",
              "\n",
              "    <script>\n",
              "      const buttonEl =\n",
              "        document.querySelector('#df-331133c7-8ad9-40c2-b4a7-cee7f973b855 button.colab-df-convert');\n",
              "      buttonEl.style.display =\n",
              "        google.colab.kernel.accessAllowed ? 'block' : 'none';\n",
              "\n",
              "      async function convertToInteractive(key) {\n",
              "        const element = document.querySelector('#df-331133c7-8ad9-40c2-b4a7-cee7f973b855');\n",
              "        const dataTable =\n",
              "          await google.colab.kernel.invokeFunction('convertToInteractive',\n",
              "                                                    [key], {});\n",
              "        if (!dataTable) return;\n",
              "\n",
              "        const docLinkHtml = 'Like what you see? Visit the ' +\n",
              "          '<a target=\"_blank\" href=https://colab.research.google.com/notebooks/data_table.ipynb>data table notebook</a>'\n",
              "          + ' to learn more about interactive tables.';\n",
              "        element.innerHTML = '';\n",
              "        dataTable['output_type'] = 'display_data';\n",
              "        await google.colab.output.renderOutput(dataTable, element);\n",
              "        const docLink = document.createElement('div');\n",
              "        docLink.innerHTML = docLinkHtml;\n",
              "        element.appendChild(docLink);\n",
              "      }\n",
              "    </script>\n",
              "  </div>\n",
              "\n",
              "\n",
              "<div id=\"df-2b34606f-133e-4074-a680-e351b25e409b\">\n",
              "  <button class=\"colab-df-quickchart\" onclick=\"quickchart('df-2b34606f-133e-4074-a680-e351b25e409b')\"\n",
              "            title=\"Suggest charts\"\n",
              "            style=\"display:none;\">\n",
              "\n",
              "<svg xmlns=\"http://www.w3.org/2000/svg\" height=\"24px\"viewBox=\"0 0 24 24\"\n",
              "     width=\"24px\">\n",
              "    <g>\n",
              "        <path d=\"M19 3H5c-1.1 0-2 .9-2 2v14c0 1.1.9 2 2 2h14c1.1 0 2-.9 2-2V5c0-1.1-.9-2-2-2zM9 17H7v-7h2v7zm4 0h-2V7h2v10zm4 0h-2v-4h2v4z\"/>\n",
              "    </g>\n",
              "</svg>\n",
              "  </button>\n",
              "\n",
              "<style>\n",
              "  .colab-df-quickchart {\n",
              "      --bg-color: #E8F0FE;\n",
              "      --fill-color: #1967D2;\n",
              "      --hover-bg-color: #E2EBFA;\n",
              "      --hover-fill-color: #174EA6;\n",
              "      --disabled-fill-color: #AAA;\n",
              "      --disabled-bg-color: #DDD;\n",
              "  }\n",
              "\n",
              "  [theme=dark] .colab-df-quickchart {\n",
              "      --bg-color: #3B4455;\n",
              "      --fill-color: #D2E3FC;\n",
              "      --hover-bg-color: #434B5C;\n",
              "      --hover-fill-color: #FFFFFF;\n",
              "      --disabled-bg-color: #3B4455;\n",
              "      --disabled-fill-color: #666;\n",
              "  }\n",
              "\n",
              "  .colab-df-quickchart {\n",
              "    background-color: var(--bg-color);\n",
              "    border: none;\n",
              "    border-radius: 50%;\n",
              "    cursor: pointer;\n",
              "    display: none;\n",
              "    fill: var(--fill-color);\n",
              "    height: 32px;\n",
              "    padding: 0;\n",
              "    width: 32px;\n",
              "  }\n",
              "\n",
              "  .colab-df-quickchart:hover {\n",
              "    background-color: var(--hover-bg-color);\n",
              "    box-shadow: 0 1px 2px rgba(60, 64, 67, 0.3), 0 1px 3px 1px rgba(60, 64, 67, 0.15);\n",
              "    fill: var(--button-hover-fill-color);\n",
              "  }\n",
              "\n",
              "  .colab-df-quickchart-complete:disabled,\n",
              "  .colab-df-quickchart-complete:disabled:hover {\n",
              "    background-color: var(--disabled-bg-color);\n",
              "    fill: var(--disabled-fill-color);\n",
              "    box-shadow: none;\n",
              "  }\n",
              "\n",
              "  .colab-df-spinner {\n",
              "    border: 2px solid var(--fill-color);\n",
              "    border-color: transparent;\n",
              "    border-bottom-color: var(--fill-color);\n",
              "    animation:\n",
              "      spin 1s steps(1) infinite;\n",
              "  }\n",
              "\n",
              "  @keyframes spin {\n",
              "    0% {\n",
              "      border-color: transparent;\n",
              "      border-bottom-color: var(--fill-color);\n",
              "      border-left-color: var(--fill-color);\n",
              "    }\n",
              "    20% {\n",
              "      border-color: transparent;\n",
              "      border-left-color: var(--fill-color);\n",
              "      border-top-color: var(--fill-color);\n",
              "    }\n",
              "    30% {\n",
              "      border-color: transparent;\n",
              "      border-left-color: var(--fill-color);\n",
              "      border-top-color: var(--fill-color);\n",
              "      border-right-color: var(--fill-color);\n",
              "    }\n",
              "    40% {\n",
              "      border-color: transparent;\n",
              "      border-right-color: var(--fill-color);\n",
              "      border-top-color: var(--fill-color);\n",
              "    }\n",
              "    60% {\n",
              "      border-color: transparent;\n",
              "      border-right-color: var(--fill-color);\n",
              "    }\n",
              "    80% {\n",
              "      border-color: transparent;\n",
              "      border-right-color: var(--fill-color);\n",
              "      border-bottom-color: var(--fill-color);\n",
              "    }\n",
              "    90% {\n",
              "      border-color: transparent;\n",
              "      border-bottom-color: var(--fill-color);\n",
              "    }\n",
              "  }\n",
              "</style>\n",
              "\n",
              "  <script>\n",
              "    async function quickchart(key) {\n",
              "      const quickchartButtonEl =\n",
              "        document.querySelector('#' + key + ' button');\n",
              "      quickchartButtonEl.disabled = true;  // To prevent multiple clicks.\n",
              "      quickchartButtonEl.classList.add('colab-df-spinner');\n",
              "      try {\n",
              "        const charts = await google.colab.kernel.invokeFunction(\n",
              "            'suggestCharts', [key], {});\n",
              "      } catch (error) {\n",
              "        console.error('Error during call to suggestCharts:', error);\n",
              "      }\n",
              "      quickchartButtonEl.classList.remove('colab-df-spinner');\n",
              "      quickchartButtonEl.classList.add('colab-df-quickchart-complete');\n",
              "    }\n",
              "    (() => {\n",
              "      let quickchartButtonEl =\n",
              "        document.querySelector('#df-2b34606f-133e-4074-a680-e351b25e409b button');\n",
              "      quickchartButtonEl.style.display =\n",
              "        google.colab.kernel.accessAllowed ? 'block' : 'none';\n",
              "    })();\n",
              "  </script>\n",
              "</div>\n",
              "    </div>\n",
              "  </div>\n"
            ]
          },
          "metadata": {},
          "execution_count": 52
        }
      ]
    },
    {
      "cell_type": "code",
      "source": [
        "plt.subplots(figsize=(20,10))\n",
        "sns.set(font_scale=1.4)\n",
        "ax = plt.axes()\n",
        "sns.heatmap(cor)\n",
        "ax.set_title('Correlation Heat Map for World Happiness', fontsize=40, y=1.05)"
      ],
      "metadata": {
        "colab": {
          "base_uri": "https://localhost:8080/",
          "height": 870
        },
        "id": "LMYtPvpRokRZ",
        "outputId": "292c62f2-48cb-433f-b33b-de2509051d6f"
      },
      "execution_count": 53,
      "outputs": [
        {
          "output_type": "execute_result",
          "data": {
            "text/plain": [
              "Text(0.5, 1.05, 'Correlation Heat Map for World Happiness')"
            ]
          },
          "metadata": {},
          "execution_count": 53
        },
        {
          "output_type": "display_data",
          "data": {
            "text/plain": [
              "<Figure size 2000x1000 with 3 Axes>"
            ],
            "image/png": "[encoded data removed]"
          },
          "metadata": {}
        }
      ]
    },
    {
      "cell_type": "code",
      "source": [
        "pos = cor[cor > 0.75] #Displaying strong positive correlations\n",
        "pos"
      ],
      "metadata": {
        "colab": {
          "base_uri": "https://localhost:8080/",
          "height": 432
        },
        "id": "9wa5iaeqokUt",
        "outputId": "99d54581-b22e-4b06-919c-0fa2ef770fc9"
      },
      "execution_count": 54,
      "outputs": [
        {
          "output_type": "execute_result",
          "data": {
            "text/plain": [
              "                               Happiness Rank  Happiness Score  \\\n",
              "Happiness Rank                            1.0              NaN   \n",
              "Happiness Score                           NaN         1.000000   \n",
              "Standard Error                            NaN              NaN   \n",
              "Economy (GDP per Capita)                  NaN         0.780966   \n",
              "Family                                    NaN              NaN   \n",
              "Health (Life Expectancy)                  NaN              NaN   \n",
              "Freedom                                   NaN              NaN   \n",
              "Trust (Government Corruption)             NaN              NaN   \n",
              "Generosity                                NaN              NaN   \n",
              "Dystopia Residual                         NaN              NaN   \n",
              "\n",
              "                               Standard Error  Economy (GDP per Capita)  \\\n",
              "Happiness Rank                            NaN                       NaN   \n",
              "Happiness Score                           NaN                  0.780966   \n",
              "Standard Error                            1.0                       NaN   \n",
              "Economy (GDP per Capita)                  NaN                  1.000000   \n",
              "Family                                    NaN                       NaN   \n",
              "Health (Life Expectancy)                  NaN                  0.816478   \n",
              "Freedom                                   NaN                       NaN   \n",
              "Trust (Government Corruption)             NaN                       NaN   \n",
              "Generosity                                NaN                       NaN   \n",
              "Dystopia Residual                         NaN                       NaN   \n",
              "\n",
              "                               Family  Health (Life Expectancy)  Freedom  \\\n",
              "Happiness Rank                    NaN                       NaN      NaN   \n",
              "Happiness Score                   NaN                       NaN      NaN   \n",
              "Standard Error                    NaN                       NaN      NaN   \n",
              "Economy (GDP per Capita)          NaN                  0.816478      NaN   \n",
              "Family                            1.0                       NaN      NaN   \n",
              "Health (Life Expectancy)          NaN                  1.000000      NaN   \n",
              "Freedom                           NaN                       NaN      1.0   \n",
              "Trust (Government Corruption)     NaN                       NaN      NaN   \n",
              "Generosity                        NaN                       NaN      NaN   \n",
              "Dystopia Residual                 NaN                       NaN      NaN   \n",
              "\n",
              "                               Trust (Government Corruption)  Generosity  \\\n",
              "Happiness Rank                                           NaN         NaN   \n",
              "Happiness Score                                          NaN         NaN   \n",
              "Standard Error                                           NaN         NaN   \n",
              "Economy (GDP per Capita)                                 NaN         NaN   \n",
              "Family                                                   NaN         NaN   \n",
              "Health (Life Expectancy)                                 NaN         NaN   \n",
              "Freedom                                                  NaN         NaN   \n",
              "Trust (Government Corruption)                            1.0         NaN   \n",
              "Generosity                                               NaN         1.0   \n",
              "Dystopia Residual                                        NaN         NaN   \n",
              "\n",
              "                               Dystopia Residual  \n",
              "Happiness Rank                               NaN  \n",
              "Happiness Score                              NaN  \n",
              "Standard Error                               NaN  \n",
              "Economy (GDP per Capita)                     NaN  \n",
              "Family                                       NaN  \n",
              "Health (Life Expectancy)                     NaN  \n",
              "Freedom                                      NaN  \n",
              "Trust (Government Corruption)                NaN  \n",
              "Generosity                                   NaN  \n",
              "Dystopia Residual                            1.0  "
            ],
            "text/html": [
              "\n",
              "  <div id=\"df-24e3ff27-1255-4c02-a717-c3793070d3b6\" class=\"colab-df-container\">\n",
              "    <div>\n",
              "<style scoped>\n",
              "    .dataframe tbody tr th:only-of-type {\n",
              "        vertical-align: middle;\n",
              "    }\n",
              "\n",
              "    .dataframe tbody tr th {\n",
              "        vertical-align: top;\n",
              "    }\n",
              "\n",
              "    .dataframe thead th {\n",
              "        text-align: right;\n",
              "    }\n",
              "</style>\n",
              "<table border=\"1\" class=\"dataframe\">\n",
              "  <thead>\n",
              "    <tr style=\"text-align: right;\">\n",
              "      <th></th>\n",
              "      <th>Happiness Rank</th>\n",
              "      <th>Happiness Score</th>\n",
              "      <th>Standard Error</th>\n",
              "      <th>Economy (GDP per Capita)</th>\n",
              "      <th>Family</th>\n",
              "      <th>Health (Life Expectancy)</th>\n",
              "      <th>Freedom</th>\n",
              "      <th>Trust (Government Corruption)</th>\n",
              "      <th>Generosity</th>\n",
              "      <th>Dystopia Residual</th>\n",
              "    </tr>\n",
              "  </thead>\n",
              "  <tbody>\n",
              "    <tr>\n",
              "      <th>Happiness Rank</th>\n",
              "      <td>1.0</td>\n",
              "      <td>NaN</td>\n",
              "      <td>NaN</td>\n",
              "      <td>NaN</td>\n",
              "      <td>NaN</td>\n",
              "      <td>NaN</td>\n",
              "      <td>NaN</td>\n",
              "      <td>NaN</td>\n",
              "      <td>NaN</td>\n",
              "      <td>NaN</td>\n",
              "    </tr>\n",
              "    <tr>\n",
              "      <th>Happiness Score</th>\n",
              "      <td>NaN</td>\n",
              "      <td>1.000000</td>\n",
              "      <td>NaN</td>\n",
              "      <td>0.780966</td>\n",
              "      <td>NaN</td>\n",
              "      <td>NaN</td>\n",
              "      <td>NaN</td>\n",
              "      <td>NaN</td>\n",
              "      <td>NaN</td>\n",
              "      <td>NaN</td>\n",
              "    </tr>\n",
              "    <tr>\n",
              "      <th>Standard Error</th>\n",
              "      <td>NaN</td>\n",
              "      <td>NaN</td>\n",
              "      <td>1.0</td>\n",
              "      <td>NaN</td>\n",
              "      <td>NaN</td>\n",
              "      <td>NaN</td>\n",
              "      <td>NaN</td>\n",
              "      <td>NaN</td>\n",
              "      <td>NaN</td>\n",
              "      <td>NaN</td>\n",
              "    </tr>\n",
              "    <tr>\n",
              "      <th>Economy (GDP per Capita)</th>\n",
              "      <td>NaN</td>\n",
              "      <td>0.780966</td>\n",
              "      <td>NaN</td>\n",
              "      <td>1.000000</td>\n",
              "      <td>NaN</td>\n",
              "      <td>0.816478</td>\n",
              "      <td>NaN</td>\n",
              "      <td>NaN</td>\n",
              "      <td>NaN</td>\n",
              "      <td>NaN</td>\n",
              "    </tr>\n",
              "    <tr>\n",
              "      <th>Family</th>\n",
              "      <td>NaN</td>\n",
              "      <td>NaN</td>\n",
              "      <td>NaN</td>\n",
              "      <td>NaN</td>\n",
              "      <td>1.0</td>\n",
              "      <td>NaN</td>\n",
              "      <td>NaN</td>\n",
              "      <td>NaN</td>\n",
              "      <td>NaN</td>\n",
              "      <td>NaN</td>\n",
              "    </tr>\n",
              "    <tr>\n",
              "      <th>Health (Life Expectancy)</th>\n",
              "      <td>NaN</td>\n",
              "      <td>NaN</td>\n",
              "      <td>NaN</td>\n",
              "      <td>0.816478</td>\n",
              "      <td>NaN</td>\n",
              "      <td>1.000000</td>\n",
              "      <td>NaN</td>\n",
              "      <td>NaN</td>\n",
              "      <td>NaN</td>\n",
              "      <td>NaN</td>\n",
              "    </tr>\n",
              "    <tr>\n",
              "      <th>Freedom</th>\n",
              "      <td>NaN</td>\n",
              "      <td>NaN</td>\n",
              "      <td>NaN</td>\n",
              "      <td>NaN</td>\n",
              "      <td>NaN</td>\n",
              "      <td>NaN</td>\n",
              "      <td>1.0</td>\n",
              "      <td>NaN</td>\n",
              "      <td>NaN</td>\n",
              "      <td>NaN</td>\n",
              "    </tr>\n",
              "    <tr>\n",
              "      <th>Trust (Government Corruption)</th>\n",
              "      <td>NaN</td>\n",
              "      <td>NaN</td>\n",
              "      <td>NaN</td>\n",
              "      <td>NaN</td>\n",
              "      <td>NaN</td>\n",
              "      <td>NaN</td>\n",
              "      <td>NaN</td>\n",
              "      <td>1.0</td>\n",
              "      <td>NaN</td>\n",
              "      <td>NaN</td>\n",
              "    </tr>\n",
              "    <tr>\n",
              "      <th>Generosity</th>\n",
              "      <td>NaN</td>\n",
              "      <td>NaN</td>\n",
              "      <td>NaN</td>\n",
              "      <td>NaN</td>\n",
              "      <td>NaN</td>\n",
              "      <td>NaN</td>\n",
              "      <td>NaN</td>\n",
              "      <td>NaN</td>\n",
              "      <td>1.0</td>\n",
              "      <td>NaN</td>\n",
              "    </tr>\n",
              "    <tr>\n",
              "      <th>Dystopia Residual</th>\n",
              "      <td>NaN</td>\n",
              "      <td>NaN</td>\n",
              "      <td>NaN</td>\n",
              "      <td>NaN</td>\n",
              "      <td>NaN</td>\n",
              "      <td>NaN</td>\n",
              "      <td>NaN</td>\n",
              "      <td>NaN</td>\n",
              "      <td>NaN</td>\n",
              "      <td>1.0</td>\n",
              "    </tr>\n",
              "  </tbody>\n",
              "</table>\n",
              "</div>\n",
              "    <div class=\"colab-df-buttons\">\n",
              "\n",
              "  <div class=\"colab-df-container\">\n",
              "    <button class=\"colab-df-convert\" onclick=\"convertToInteractive('df-24e3ff27-1255-4c02-a717-c3793070d3b6')\"\n",
              "            title=\"Convert this dataframe to an interactive table.\"\n",
              "            style=\"display:none;\">\n",
              "\n",
              "  <svg xmlns=\"http://www.w3.org/2000/svg\" height=\"24px\" viewBox=\"0 -960 960 960\">\n",
              "    <path d=\"M120-120v-720h720v720H120Zm60-500h600v-160H180v160Zm220 220h160v-160H400v160Zm0 220h160v-160H400v160ZM180-400h160v-160H180v160Zm440 0h160v-160H620v160ZM180-180h160v-160H180v160Zm440 0h160v-160H620v160Z\"/>\n",
              "  </svg>\n",
              "    </button>\n",
              "\n",
              "  <style>\n",
              "    .colab-df-container {\n",
              "      display:flex;\n",
              "      gap: 12px;\n",
              "    }\n",
              "\n",
              "    .colab-df-convert {\n",
              "      background-color: #E8F0FE;\n",
              "      border: none;\n",
              "      border-radius: 50%;\n",
              "      cursor: pointer;\n",
              "      display: none;\n",
              "      fill: #1967D2;\n",
              "      height: 32px;\n",
              "      padding: 0 0 0 0;\n",
              "      width: 32px;\n",
              "    }\n",
              "\n",
              "    .colab-df-convert:hover {\n",
              "      background-color: #E2EBFA;\n",
              "      box-shadow: 0px 1px 2px rgba(60, 64, 67, 0.3), 0px 1px 3px 1px rgba(60, 64, 67, 0.15);\n",
              "      fill: #174EA6;\n",
              "    }\n",
              "\n",
              "    .colab-df-buttons div {\n",
              "      margin-bottom: 4px;\n",
              "    }\n",
              "\n",
              "    [theme=dark] .colab-df-convert {\n",
              "      background-color: #3B4455;\n",
              "      fill: #D2E3FC;\n",
              "    }\n",
              "\n",
              "    [theme=dark] .colab-df-convert:hover {\n",
              "      background-color: #434B5C;\n",
              "      box-shadow: 0px 1px 3px 1px rgba(0, 0, 0, 0.15);\n",
              "      filter: drop-shadow(0px 1px 2px rgba(0, 0, 0, 0.3));\n",
              "      fill: #FFFFFF;\n",
              "    }\n",
              "  </style>\n",
              "\n",
              "    <script>\n",
              "      const buttonEl =\n",
              "        document.querySelector('#df-24e3ff27-1255-4c02-a717-c3793070d3b6 button.colab-df-convert');\n",
              "      buttonEl.style.display =\n",
              "        google.colab.kernel.accessAllowed ? 'block' : 'none';\n",
              "\n",
              "      async function convertToInteractive(key) {\n",
              "        const element = document.querySelector('#df-24e3ff27-1255-4c02-a717-c3793070d3b6');\n",
              "        const dataTable =\n",
              "          await google.colab.kernel.invokeFunction('convertToInteractive',\n",
              "                                                    [key], {});\n",
              "        if (!dataTable) return;\n",
              "\n",
              "        const docLinkHtml = 'Like what you see? Visit the ' +\n",
              "          '<a target=\"_blank\" href=https://colab.research.google.com/notebooks/data_table.ipynb>data table notebook</a>'\n",
              "          + ' to learn more about interactive tables.';\n",
              "        element.innerHTML = '';\n",
              "        dataTable['output_type'] = 'display_data';\n",
              "        await google.colab.output.renderOutput(dataTable, element);\n",
              "        const docLink = document.createElement('div');\n",
              "        docLink.innerHTML = docLinkHtml;\n",
              "        element.appendChild(docLink);\n",
              "      }\n",
              "    </script>\n",
              "  </div>\n",
              "\n",
              "\n",
              "<div id=\"df-4379cf6b-fbee-4e04-aa3a-5b434e7a994d\">\n",
              "  <button class=\"colab-df-quickchart\" onclick=\"quickchart('df-4379cf6b-fbee-4e04-aa3a-5b434e7a994d')\"\n",
              "            title=\"Suggest charts\"\n",
              "            style=\"display:none;\">\n",
              "\n",
              "<svg xmlns=\"http://www.w3.org/2000/svg\" height=\"24px\"viewBox=\"0 0 24 24\"\n",
              "     width=\"24px\">\n",
              "    <g>\n",
              "        <path d=\"M19 3H5c-1.1 0-2 .9-2 2v14c0 1.1.9 2 2 2h14c1.1 0 2-.9 2-2V5c0-1.1-.9-2-2-2zM9 17H7v-7h2v7zm4 0h-2V7h2v10zm4 0h-2v-4h2v4z\"/>\n",
              "    </g>\n",
              "</svg>\n",
              "  </button>\n",
              "\n",
              "<style>\n",
              "  .colab-df-quickchart {\n",
              "      --bg-color: #E8F0FE;\n",
              "      --fill-color: #1967D2;\n",
              "      --hover-bg-color: #E2EBFA;\n",
              "      --hover-fill-color: #174EA6;\n",
              "      --disabled-fill-color: #AAA;\n",
              "      --disabled-bg-color: #DDD;\n",
              "  }\n",
              "\n",
              "  [theme=dark] .colab-df-quickchart {\n",
              "      --bg-color: #3B4455;\n",
              "      --fill-color: #D2E3FC;\n",
              "      --hover-bg-color: #434B5C;\n",
              "      --hover-fill-color: #FFFFFF;\n",
              "      --disabled-bg-color: #3B4455;\n",
              "      --disabled-fill-color: #666;\n",
              "  }\n",
              "\n",
              "  .colab-df-quickchart {\n",
              "    background-color: var(--bg-color);\n",
              "    border: none;\n",
              "    border-radius: 50%;\n",
              "    cursor: pointer;\n",
              "    display: none;\n",
              "    fill: var(--fill-color);\n",
              "    height: 32px;\n",
              "    padding: 0;\n",
              "    width: 32px;\n",
              "  }\n",
              "\n",
              "  .colab-df-quickchart:hover {\n",
              "    background-color: var(--hover-bg-color);\n",
              "    box-shadow: 0 1px 2px rgba(60, 64, 67, 0.3), 0 1px 3px 1px rgba(60, 64, 67, 0.15);\n",
              "    fill: var(--button-hover-fill-color);\n",
              "  }\n",
              "\n",
              "  .colab-df-quickchart-complete:disabled,\n",
              "  .colab-df-quickchart-complete:disabled:hover {\n",
              "    background-color: var(--disabled-bg-color);\n",
              "    fill: var(--disabled-fill-color);\n",
              "    box-shadow: none;\n",
              "  }\n",
              "\n",
              "  .colab-df-spinner {\n",
              "    border: 2px solid var(--fill-color);\n",
              "    border-color: transparent;\n",
              "    border-bottom-color: var(--fill-color);\n",
              "    animation:\n",
              "      spin 1s steps(1) infinite;\n",
              "  }\n",
              "\n",
              "  @keyframes spin {\n",
              "    0% {\n",
              "      border-color: transparent;\n",
              "      border-bottom-color: var(--fill-color);\n",
              "      border-left-color: var(--fill-color);\n",
              "    }\n",
              "    20% {\n",
              "      border-color: transparent;\n",
              "      border-left-color: var(--fill-color);\n",
              "      border-top-color: var(--fill-color);\n",
              "    }\n",
              "    30% {\n",
              "      border-color: transparent;\n",
              "      border-left-color: var(--fill-color);\n",
              "      border-top-color: var(--fill-color);\n",
              "      border-right-color: var(--fill-color);\n",
              "    }\n",
              "    40% {\n",
              "      border-color: transparent;\n",
              "      border-right-color: var(--fill-color);\n",
              "      border-top-color: var(--fill-color);\n",
              "    }\n",
              "    60% {\n",
              "      border-color: transparent;\n",
              "      border-right-color: var(--fill-color);\n",
              "    }\n",
              "    80% {\n",
              "      border-color: transparent;\n",
              "      border-right-color: var(--fill-color);\n",
              "      border-bottom-color: var(--fill-color);\n",
              "    }\n",
              "    90% {\n",
              "      border-color: transparent;\n",
              "      border-bottom-color: var(--fill-color);\n",
              "    }\n",
              "  }\n",
              "</style>\n",
              "\n",
              "  <script>\n",
              "    async function quickchart(key) {\n",
              "      const quickchartButtonEl =\n",
              "        document.querySelector('#' + key + ' button');\n",
              "      quickchartButtonEl.disabled = true;  // To prevent multiple clicks.\n",
              "      quickchartButtonEl.classList.add('colab-df-spinner');\n",
              "      try {\n",
              "        const charts = await google.colab.kernel.invokeFunction(\n",
              "            'suggestCharts', [key], {});\n",
              "      } catch (error) {\n",
              "        console.error('Error during call to suggestCharts:', error);\n",
              "      }\n",
              "      quickchartButtonEl.classList.remove('colab-df-spinner');\n",
              "      quickchartButtonEl.classList.add('colab-df-quickchart-complete');\n",
              "    }\n",
              "    (() => {\n",
              "      let quickchartButtonEl =\n",
              "        document.querySelector('#df-4379cf6b-fbee-4e04-aa3a-5b434e7a994d button');\n",
              "      quickchartButtonEl.style.display =\n",
              "        google.colab.kernel.accessAllowed ? 'block' : 'none';\n",
              "    })();\n",
              "  </script>\n",
              "</div>\n",
              "    </div>\n",
              "  </div>\n"
            ]
          },
          "metadata": {},
          "execution_count": 54
        }
      ]
    },
    {
      "cell_type": "code",
      "source": [
        "plt.figure( figsize=(30,10))\n",
        "plt.scatter(df['Happiness Rank'], df['Economy (GDP per Capita)'], color='purple')\n",
        "plt.title('Score VS GDP Per Capita', fontsize=40, y=1.05)\n",
        "plt.xlabel('Score', fontsize=14)\n",
        "plt.ylabel('GDP Per Capita', fontsize=14)"
      ],
      "metadata": {
        "colab": {
          "base_uri": "https://localhost:8080/",
          "height": 541
        },
        "id": "6ZiwXodLo3MC",
        "outputId": "05fc6f1a-d0d5-4394-9504-23015adb3b79"
      },
      "execution_count": 56,
      "outputs": [
        {
          "output_type": "execute_result",
          "data": {
            "text/plain": [
              "Text(0, 0.5, 'GDP Per Capita')"
            ]
          },
          "metadata": {},
          "execution_count": 56
        },
        {
          "output_type": "display_data",
          "data": {
            "text/plain": [
              "<Figure size 3000x1000 with 1 Axes>"
            ],
            "image/png": "[encoded data removed]"
          },
          "metadata": {}
        }
      ]
    },
    {
      "cell_type": "code",
      "source": [
        "plt.figure( figsize=(30,10))\n",
        "plt.scatter(df['Happiness Score'], df['Family'], color='red')\n",
        "plt.title('Score VS Social Support', fontsize=40, y=1.05)\n",
        "plt.xlabel('Score', fontsize=14)\n",
        "plt.ylabel('Social Support', fontsize=14)"
      ],
      "metadata": {
        "colab": {
          "base_uri": "https://localhost:8080/",
          "height": 544
        },
        "id": "dlMHNK0Mo3PG",
        "outputId": "3112755d-6031-4968-8b45-f07118921464"
      },
      "execution_count": 57,
      "outputs": [
        {
          "output_type": "execute_result",
          "data": {
            "text/plain": [
              "Text(0, 0.5, 'Social Support')"
            ]
          },
          "metadata": {},
          "execution_count": 57
        },
        {
          "output_type": "display_data",
          "data": {
            "text/plain": [
              "<Figure size 3000x1000 with 1 Axes>"
            ],
            "image/png": "[encoded data removed]"
          },
          "metadata": {}
        }
      ]
    },
    {
      "cell_type": "code",
      "source": [
        "plt.figure( figsize=(30,10))\n",
        "plt.scatter(df['Happiness Score'], df['Health (Life Expectancy)'], color='orange')\n",
        "plt.title('Score VS Healthy Life Expectancy', fontsize=40, y=1.05)\n",
        "plt.xlabel('Score', fontsize=14)\n",
        "plt.ylabel('Healthy Life Expectancy', fontsize=14)"
      ],
      "metadata": {
        "colab": {
          "base_uri": "https://localhost:8080/",
          "height": 544
        },
        "id": "O7qEdtFpo3RP",
        "outputId": "40ab28fa-f939-4d6e-e57b-fe722fd80e5b"
      },
      "execution_count": 58,
      "outputs": [
        {
          "output_type": "execute_result",
          "data": {
            "text/plain": [
              "Text(0, 0.5, 'Healthy Life Expectancy')"
            ]
          },
          "metadata": {},
          "execution_count": 58
        },
        {
          "output_type": "display_data",
          "data": {
            "text/plain": [
              "<Figure size 3000x1000 with 1 Axes>"
            ],
            "image/png": "[encoded data removed]"
          },
          "metadata": {}
        }
      ]
    },
    {
      "cell_type": "code",
      "source": [
        "from sklearn.linear_model import LinearRegression\n",
        "lm = LinearRegression()\n",
        "\n",
        "# Define predictor and target variables\n",
        "x = df[[\"Economy (GDP per Capita)\", \"Family\", \"Health (Life Expectancy)\"]]\n",
        "y = df[\"Happiness Score\"]\n",
        "\n",
        "lm.fit(x, y)\n",
        "\n",
        "yhat = lm.predict(x)\n",
        "\n",
        "lm.intercept_"
      ],
      "metadata": {
        "colab": {
          "base_uri": "https://localhost:8080/"
        },
        "id": "B2TguinWo3Um",
        "outputId": "612a5879-17c8-4f9c-d9d7-2f224dca7e7d"
      },
      "execution_count": 61,
      "outputs": [
        {
          "output_type": "execute_result",
          "data": {
            "text/plain": [
              "2.199125142436516"
            ]
          },
          "metadata": {},
          "execution_count": 61
        }
      ]
    },
    {
      "cell_type": "code",
      "source": [
        "lm.coef_"
      ],
      "metadata": {
        "colab": {
          "base_uri": "https://localhost:8080/"
        },
        "id": "LfxS51edp0rR",
        "outputId": "4694a528-02c2-4248-dee5-ca28ab026245"
      },
      "execution_count": 62,
      "outputs": [
        {
          "output_type": "execute_result",
          "data": {
            "text/plain": [
              "array([0.88808859, 1.69694463, 1.17953681])"
            ]
          },
          "metadata": {},
          "execution_count": 62
        }
      ]
    },
    {
      "cell_type": "markdown",
      "source": [
        "Here we obtain that the linear regression model is as follows:\n",
        "\n",
        "yhat = 2.14 + 0.81(GDP per capita) + 1.32(Social support) + 1.30(Healthy life expectancy) to 2 d.p"
      ],
      "metadata": {
        "id": "i4AKcSlArW82"
      }
    },
    {
      "cell_type": "markdown",
      "source": [],
      "metadata": {
        "id": "PmTbt7QfrUQU"
      }
    },
    {
      "cell_type": "markdown",
      "source": [],
      "metadata": {
        "id": "0W_Keo2IsaDv"
      }
    }
  ]
}