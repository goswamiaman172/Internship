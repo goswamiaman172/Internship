{
 "cells": [
  {
   "cell_type": "code",
   "execution_count": 3,
   "id": "51e7e8ce",
   "metadata": {},
   "outputs": [],
   "source": [
    "import pandas as pd\n",
    "import numpy as np\n",
    "from sklearn.linear_model import LinearRegression\n",
    "from sklearn.svm import SVR\n",
    "from sklearn.model_selection import train_test_split\n",
    "import matplotlib.pyplot as plt\n",
    "from sklearn.metrics import mean_squared_error\n",
    "from sklearn.metrics import mean_absolute_error\n",
    "from random import randint\n",
    "from sklearn.ensemble import RandomForestRegressor"
   ]
  },
  {
   "cell_type": "code",
   "execution_count": 4,
   "id": "cd4c6c36",
   "metadata": {},
   "outputs": [],
   "source": [
    "dataset=pd.read_csv('C:\\data trained flip robo intern\\project 3\\Data Student project\\Grades.csv')"
   ]
  },
  {
   "cell_type": "code",
   "execution_count": 5,
   "id": "fe63e0d3",
   "metadata": {},
   "outputs": [
    {
     "data": {
      "text/html": [
       "<div>\n",
       "<style scoped>\n",
       "    .dataframe tbody tr th:only-of-type {\n",
       "        vertical-align: middle;\n",
       "    }\n",
       "\n",
       "    .dataframe tbody tr th {\n",
       "        vertical-align: top;\n",
       "    }\n",
       "\n",
       "    .dataframe thead th {\n",
       "        text-align: right;\n",
       "    }\n",
       "</style>\n",
       "<table border=\"1\" class=\"dataframe\">\n",
       "  <thead>\n",
       "    <tr style=\"text-align: right;\">\n",
       "      <th></th>\n",
       "      <th>Seat No.</th>\n",
       "      <th>PH-121</th>\n",
       "      <th>HS-101</th>\n",
       "      <th>CY-105</th>\n",
       "      <th>HS-105/12</th>\n",
       "      <th>MT-111</th>\n",
       "      <th>CS-105</th>\n",
       "      <th>CS-106</th>\n",
       "      <th>EL-102</th>\n",
       "      <th>EE-119</th>\n",
       "      <th>...</th>\n",
       "      <th>CS-312</th>\n",
       "      <th>CS-317</th>\n",
       "      <th>CS-403</th>\n",
       "      <th>CS-421</th>\n",
       "      <th>CS-406</th>\n",
       "      <th>CS-414</th>\n",
       "      <th>CS-419</th>\n",
       "      <th>CS-423</th>\n",
       "      <th>CS-412</th>\n",
       "      <th>CGPA</th>\n",
       "    </tr>\n",
       "  </thead>\n",
       "  <tbody>\n",
       "    <tr>\n",
       "      <th>0</th>\n",
       "      <td>CS-97001</td>\n",
       "      <td>B-</td>\n",
       "      <td>D+</td>\n",
       "      <td>C-</td>\n",
       "      <td>C</td>\n",
       "      <td>C-</td>\n",
       "      <td>D+</td>\n",
       "      <td>D</td>\n",
       "      <td>C-</td>\n",
       "      <td>B-</td>\n",
       "      <td>...</td>\n",
       "      <td>C-</td>\n",
       "      <td>C-</td>\n",
       "      <td>C-</td>\n",
       "      <td>C-</td>\n",
       "      <td>A-</td>\n",
       "      <td>A</td>\n",
       "      <td>C-</td>\n",
       "      <td>B</td>\n",
       "      <td>A-</td>\n",
       "      <td>2.205</td>\n",
       "    </tr>\n",
       "    <tr>\n",
       "      <th>1</th>\n",
       "      <td>CS-97002</td>\n",
       "      <td>A</td>\n",
       "      <td>D</td>\n",
       "      <td>D+</td>\n",
       "      <td>D</td>\n",
       "      <td>B-</td>\n",
       "      <td>C</td>\n",
       "      <td>D</td>\n",
       "      <td>A</td>\n",
       "      <td>D+</td>\n",
       "      <td>...</td>\n",
       "      <td>D+</td>\n",
       "      <td>D</td>\n",
       "      <td>C</td>\n",
       "      <td>D</td>\n",
       "      <td>A-</td>\n",
       "      <td>B-</td>\n",
       "      <td>C</td>\n",
       "      <td>C</td>\n",
       "      <td>B</td>\n",
       "      <td>2.008</td>\n",
       "    </tr>\n",
       "    <tr>\n",
       "      <th>2</th>\n",
       "      <td>CS-97003</td>\n",
       "      <td>A</td>\n",
       "      <td>B</td>\n",
       "      <td>A</td>\n",
       "      <td>B-</td>\n",
       "      <td>B+</td>\n",
       "      <td>A</td>\n",
       "      <td>B-</td>\n",
       "      <td>B+</td>\n",
       "      <td>A-</td>\n",
       "      <td>...</td>\n",
       "      <td>B</td>\n",
       "      <td>B</td>\n",
       "      <td>A</td>\n",
       "      <td>C</td>\n",
       "      <td>A</td>\n",
       "      <td>A</td>\n",
       "      <td>A</td>\n",
       "      <td>A-</td>\n",
       "      <td>A</td>\n",
       "      <td>3.608</td>\n",
       "    </tr>\n",
       "    <tr>\n",
       "      <th>3</th>\n",
       "      <td>CS-97004</td>\n",
       "      <td>D</td>\n",
       "      <td>C+</td>\n",
       "      <td>D+</td>\n",
       "      <td>D</td>\n",
       "      <td>D</td>\n",
       "      <td>A-</td>\n",
       "      <td>D+</td>\n",
       "      <td>C-</td>\n",
       "      <td>D</td>\n",
       "      <td>...</td>\n",
       "      <td>D+</td>\n",
       "      <td>C</td>\n",
       "      <td>D+</td>\n",
       "      <td>C-</td>\n",
       "      <td>B-</td>\n",
       "      <td>B</td>\n",
       "      <td>C+</td>\n",
       "      <td>C+</td>\n",
       "      <td>C+</td>\n",
       "      <td>1.906</td>\n",
       "    </tr>\n",
       "    <tr>\n",
       "      <th>4</th>\n",
       "      <td>CS-97005</td>\n",
       "      <td>A-</td>\n",
       "      <td>A-</td>\n",
       "      <td>A-</td>\n",
       "      <td>B+</td>\n",
       "      <td>A</td>\n",
       "      <td>A</td>\n",
       "      <td>A-</td>\n",
       "      <td>B+</td>\n",
       "      <td>A</td>\n",
       "      <td>...</td>\n",
       "      <td>B-</td>\n",
       "      <td>B+</td>\n",
       "      <td>B+</td>\n",
       "      <td>B-</td>\n",
       "      <td>A-</td>\n",
       "      <td>A</td>\n",
       "      <td>A-</td>\n",
       "      <td>A-</td>\n",
       "      <td>A</td>\n",
       "      <td>3.448</td>\n",
       "    </tr>\n",
       "  </tbody>\n",
       "</table>\n",
       "<p>5 rows × 43 columns</p>\n",
       "</div>"
      ],
      "text/plain": [
       "   Seat No. PH-121 HS-101 CY-105 HS-105/12 MT-111 CS-105 CS-106 EL-102 EE-119  \\\n",
       "0  CS-97001     B-     D+     C-         C     C-     D+      D     C-     B-   \n",
       "1  CS-97002      A      D     D+         D     B-      C      D      A     D+   \n",
       "2  CS-97003      A      B      A        B-     B+      A     B-     B+     A-   \n",
       "3  CS-97004      D     C+     D+         D      D     A-     D+     C-      D   \n",
       "4  CS-97005     A-     A-     A-        B+      A      A     A-     B+      A   \n",
       "\n",
       "   ... CS-312 CS-317 CS-403 CS-421 CS-406 CS-414 CS-419 CS-423 CS-412   CGPA  \n",
       "0  ...     C-     C-     C-     C-     A-      A     C-      B     A-  2.205  \n",
       "1  ...     D+      D      C      D     A-     B-      C      C      B  2.008  \n",
       "2  ...      B      B      A      C      A      A      A     A-      A  3.608  \n",
       "3  ...     D+      C     D+     C-     B-      B     C+     C+     C+  1.906  \n",
       "4  ...     B-     B+     B+     B-     A-      A     A-     A-      A  3.448  \n",
       "\n",
       "[5 rows x 43 columns]"
      ]
     },
     "execution_count": 5,
     "metadata": {},
     "output_type": "execute_result"
    }
   ],
   "source": [
    "dataset.head()"
   ]
  },
  {
   "cell_type": "code",
   "execution_count": 6,
   "id": "8ffc074c",
   "metadata": {},
   "outputs": [],
   "source": [
    "x= dataset.iloc[:,1:-8]\n",
    "y=dataset[['CGPA']]\n",
    "x=x.drop(\"MT-442\" , axis=1)    "
   ]
  },
  {
   "cell_type": "code",
   "execution_count": 7,
   "id": "61b63e1b",
   "metadata": {},
   "outputs": [
    {
     "data": {
      "text/html": [
       "<div>\n",
       "<style scoped>\n",
       "    .dataframe tbody tr th:only-of-type {\n",
       "        vertical-align: middle;\n",
       "    }\n",
       "\n",
       "    .dataframe tbody tr th {\n",
       "        vertical-align: top;\n",
       "    }\n",
       "\n",
       "    .dataframe thead th {\n",
       "        text-align: right;\n",
       "    }\n",
       "</style>\n",
       "<table border=\"1\" class=\"dataframe\">\n",
       "  <thead>\n",
       "    <tr style=\"text-align: right;\">\n",
       "      <th></th>\n",
       "      <th>PH-121</th>\n",
       "      <th>HS-101</th>\n",
       "      <th>CY-105</th>\n",
       "      <th>HS-105/12</th>\n",
       "      <th>MT-111</th>\n",
       "      <th>CS-105</th>\n",
       "      <th>CS-106</th>\n",
       "      <th>EL-102</th>\n",
       "      <th>EE-119</th>\n",
       "      <th>ME-107</th>\n",
       "      <th>...</th>\n",
       "      <th>EF-303</th>\n",
       "      <th>HS-304</th>\n",
       "      <th>CS-301</th>\n",
       "      <th>CS-302</th>\n",
       "      <th>TC-383</th>\n",
       "      <th>EL-332</th>\n",
       "      <th>CS-318</th>\n",
       "      <th>CS-306</th>\n",
       "      <th>CS-312</th>\n",
       "      <th>CS-317</th>\n",
       "    </tr>\n",
       "  </thead>\n",
       "  <tbody>\n",
       "    <tr>\n",
       "      <th>0</th>\n",
       "      <td>B-</td>\n",
       "      <td>D+</td>\n",
       "      <td>C-</td>\n",
       "      <td>C</td>\n",
       "      <td>C-</td>\n",
       "      <td>D+</td>\n",
       "      <td>D</td>\n",
       "      <td>C-</td>\n",
       "      <td>B-</td>\n",
       "      <td>C-</td>\n",
       "      <td>...</td>\n",
       "      <td>C-</td>\n",
       "      <td>C+</td>\n",
       "      <td>B</td>\n",
       "      <td>C</td>\n",
       "      <td>C+</td>\n",
       "      <td>C</td>\n",
       "      <td>C-</td>\n",
       "      <td>C</td>\n",
       "      <td>C-</td>\n",
       "      <td>C-</td>\n",
       "    </tr>\n",
       "    <tr>\n",
       "      <th>1</th>\n",
       "      <td>A</td>\n",
       "      <td>D</td>\n",
       "      <td>D+</td>\n",
       "      <td>D</td>\n",
       "      <td>B-</td>\n",
       "      <td>C</td>\n",
       "      <td>D</td>\n",
       "      <td>A</td>\n",
       "      <td>D+</td>\n",
       "      <td>D</td>\n",
       "      <td>...</td>\n",
       "      <td>D</td>\n",
       "      <td>C-</td>\n",
       "      <td>A-</td>\n",
       "      <td>D+</td>\n",
       "      <td>C-</td>\n",
       "      <td>C</td>\n",
       "      <td>A-</td>\n",
       "      <td>D</td>\n",
       "      <td>D+</td>\n",
       "      <td>D</td>\n",
       "    </tr>\n",
       "    <tr>\n",
       "      <th>2</th>\n",
       "      <td>A</td>\n",
       "      <td>B</td>\n",
       "      <td>A</td>\n",
       "      <td>B-</td>\n",
       "      <td>B+</td>\n",
       "      <td>A</td>\n",
       "      <td>B-</td>\n",
       "      <td>B+</td>\n",
       "      <td>A-</td>\n",
       "      <td>A-</td>\n",
       "      <td>...</td>\n",
       "      <td>C+</td>\n",
       "      <td>A</td>\n",
       "      <td>B+</td>\n",
       "      <td>A-</td>\n",
       "      <td>B</td>\n",
       "      <td>B+</td>\n",
       "      <td>A-</td>\n",
       "      <td>A-</td>\n",
       "      <td>B</td>\n",
       "      <td>B</td>\n",
       "    </tr>\n",
       "    <tr>\n",
       "      <th>3</th>\n",
       "      <td>D</td>\n",
       "      <td>C+</td>\n",
       "      <td>D+</td>\n",
       "      <td>D</td>\n",
       "      <td>D</td>\n",
       "      <td>A-</td>\n",
       "      <td>D+</td>\n",
       "      <td>C-</td>\n",
       "      <td>D</td>\n",
       "      <td>C+</td>\n",
       "      <td>...</td>\n",
       "      <td>D</td>\n",
       "      <td>B-</td>\n",
       "      <td>D</td>\n",
       "      <td>B-</td>\n",
       "      <td>D+</td>\n",
       "      <td>D+</td>\n",
       "      <td>B+</td>\n",
       "      <td>C-</td>\n",
       "      <td>D+</td>\n",
       "      <td>C</td>\n",
       "    </tr>\n",
       "    <tr>\n",
       "      <th>4</th>\n",
       "      <td>A-</td>\n",
       "      <td>A-</td>\n",
       "      <td>A-</td>\n",
       "      <td>B+</td>\n",
       "      <td>A</td>\n",
       "      <td>A</td>\n",
       "      <td>A-</td>\n",
       "      <td>B+</td>\n",
       "      <td>A</td>\n",
       "      <td>A-</td>\n",
       "      <td>...</td>\n",
       "      <td>C-</td>\n",
       "      <td>A-</td>\n",
       "      <td>B-</td>\n",
       "      <td>A-</td>\n",
       "      <td>C+</td>\n",
       "      <td>A-</td>\n",
       "      <td>B-</td>\n",
       "      <td>A-</td>\n",
       "      <td>B-</td>\n",
       "      <td>B+</td>\n",
       "    </tr>\n",
       "    <tr>\n",
       "      <th>...</th>\n",
       "      <td>...</td>\n",
       "      <td>...</td>\n",
       "      <td>...</td>\n",
       "      <td>...</td>\n",
       "      <td>...</td>\n",
       "      <td>...</td>\n",
       "      <td>...</td>\n",
       "      <td>...</td>\n",
       "      <td>...</td>\n",
       "      <td>...</td>\n",
       "      <td>...</td>\n",
       "      <td>...</td>\n",
       "      <td>...</td>\n",
       "      <td>...</td>\n",
       "      <td>...</td>\n",
       "      <td>...</td>\n",
       "      <td>...</td>\n",
       "      <td>...</td>\n",
       "      <td>...</td>\n",
       "      <td>...</td>\n",
       "      <td>...</td>\n",
       "    </tr>\n",
       "    <tr>\n",
       "      <th>566</th>\n",
       "      <td>B</td>\n",
       "      <td>A</td>\n",
       "      <td>A</td>\n",
       "      <td>A-</td>\n",
       "      <td>A+</td>\n",
       "      <td>A</td>\n",
       "      <td>A-</td>\n",
       "      <td>A-</td>\n",
       "      <td>A+</td>\n",
       "      <td>B+</td>\n",
       "      <td>...</td>\n",
       "      <td>B</td>\n",
       "      <td>A-</td>\n",
       "      <td>A-</td>\n",
       "      <td>A</td>\n",
       "      <td>A+</td>\n",
       "      <td>A</td>\n",
       "      <td>A</td>\n",
       "      <td>B+</td>\n",
       "      <td>A-</td>\n",
       "      <td>A-</td>\n",
       "    </tr>\n",
       "    <tr>\n",
       "      <th>567</th>\n",
       "      <td>A+</td>\n",
       "      <td>A</td>\n",
       "      <td>A</td>\n",
       "      <td>A</td>\n",
       "      <td>A</td>\n",
       "      <td>A</td>\n",
       "      <td>A</td>\n",
       "      <td>A-</td>\n",
       "      <td>A</td>\n",
       "      <td>A</td>\n",
       "      <td>...</td>\n",
       "      <td>A</td>\n",
       "      <td>A</td>\n",
       "      <td>A</td>\n",
       "      <td>A</td>\n",
       "      <td>A</td>\n",
       "      <td>A</td>\n",
       "      <td>A+</td>\n",
       "      <td>A-</td>\n",
       "      <td>B+</td>\n",
       "      <td>B+</td>\n",
       "    </tr>\n",
       "    <tr>\n",
       "      <th>568</th>\n",
       "      <td>B</td>\n",
       "      <td>A</td>\n",
       "      <td>A-</td>\n",
       "      <td>B+</td>\n",
       "      <td>A</td>\n",
       "      <td>A</td>\n",
       "      <td>A</td>\n",
       "      <td>A</td>\n",
       "      <td>A</td>\n",
       "      <td>B</td>\n",
       "      <td>...</td>\n",
       "      <td>B</td>\n",
       "      <td>B-</td>\n",
       "      <td>B+</td>\n",
       "      <td>B+</td>\n",
       "      <td>A</td>\n",
       "      <td>B</td>\n",
       "      <td>C+</td>\n",
       "      <td>B+</td>\n",
       "      <td>A-</td>\n",
       "      <td>B</td>\n",
       "    </tr>\n",
       "    <tr>\n",
       "      <th>569</th>\n",
       "      <td>A</td>\n",
       "      <td>B+</td>\n",
       "      <td>D</td>\n",
       "      <td>A</td>\n",
       "      <td>D</td>\n",
       "      <td>D+</td>\n",
       "      <td>B-</td>\n",
       "      <td>C-</td>\n",
       "      <td>B-</td>\n",
       "      <td>C-</td>\n",
       "      <td>...</td>\n",
       "      <td>D</td>\n",
       "      <td>C</td>\n",
       "      <td>C</td>\n",
       "      <td>C+</td>\n",
       "      <td>C-</td>\n",
       "      <td>D</td>\n",
       "      <td>B-</td>\n",
       "      <td>B+</td>\n",
       "      <td>D</td>\n",
       "      <td>B</td>\n",
       "    </tr>\n",
       "    <tr>\n",
       "      <th>570</th>\n",
       "      <td>C</td>\n",
       "      <td>D</td>\n",
       "      <td>D</td>\n",
       "      <td>C</td>\n",
       "      <td>C</td>\n",
       "      <td>D+</td>\n",
       "      <td>B</td>\n",
       "      <td>C+</td>\n",
       "      <td>C</td>\n",
       "      <td>D+</td>\n",
       "      <td>...</td>\n",
       "      <td>D</td>\n",
       "      <td>F</td>\n",
       "      <td>D</td>\n",
       "      <td>D</td>\n",
       "      <td>C</td>\n",
       "      <td>F</td>\n",
       "      <td>C-</td>\n",
       "      <td>D+</td>\n",
       "      <td>C+</td>\n",
       "      <td>C</td>\n",
       "    </tr>\n",
       "  </tbody>\n",
       "</table>\n",
       "<p>571 rows × 33 columns</p>\n",
       "</div>"
      ],
      "text/plain": [
       "    PH-121 HS-101 CY-105 HS-105/12 MT-111 CS-105 CS-106 EL-102 EE-119 ME-107  \\\n",
       "0       B-     D+     C-         C     C-     D+      D     C-     B-     C-   \n",
       "1        A      D     D+         D     B-      C      D      A     D+      D   \n",
       "2        A      B      A        B-     B+      A     B-     B+     A-     A-   \n",
       "3        D     C+     D+         D      D     A-     D+     C-      D     C+   \n",
       "4       A-     A-     A-        B+      A      A     A-     B+      A     A-   \n",
       "..     ...    ...    ...       ...    ...    ...    ...    ...    ...    ...   \n",
       "566      B      A      A        A-     A+      A     A-     A-     A+     B+   \n",
       "567     A+      A      A         A      A      A      A     A-      A      A   \n",
       "568      B      A     A-        B+      A      A      A      A      A      B   \n",
       "569      A     B+      D         A      D     D+     B-     C-     B-     C-   \n",
       "570      C      D      D         C      C     D+      B     C+      C     D+   \n",
       "\n",
       "     ... EF-303 HS-304 CS-301 CS-302 TC-383 EL-332 CS-318 CS-306 CS-312 CS-317  \n",
       "0    ...     C-     C+      B      C     C+      C     C-      C     C-     C-  \n",
       "1    ...      D     C-     A-     D+     C-      C     A-      D     D+      D  \n",
       "2    ...     C+      A     B+     A-      B     B+     A-     A-      B      B  \n",
       "3    ...      D     B-      D     B-     D+     D+     B+     C-     D+      C  \n",
       "4    ...     C-     A-     B-     A-     C+     A-     B-     A-     B-     B+  \n",
       "..   ...    ...    ...    ...    ...    ...    ...    ...    ...    ...    ...  \n",
       "566  ...      B     A-     A-      A     A+      A      A     B+     A-     A-  \n",
       "567  ...      A      A      A      A      A      A     A+     A-     B+     B+  \n",
       "568  ...      B     B-     B+     B+      A      B     C+     B+     A-      B  \n",
       "569  ...      D      C      C     C+     C-      D     B-     B+      D      B  \n",
       "570  ...      D      F      D      D      C      F     C-     D+     C+      C  \n",
       "\n",
       "[571 rows x 33 columns]"
      ]
     },
     "execution_count": 7,
     "metadata": {},
     "output_type": "execute_result"
    }
   ],
   "source": [
    "x"
   ]
  },
  {
   "cell_type": "code",
   "execution_count": 8,
   "id": "a36ec22e",
   "metadata": {},
   "outputs": [],
   "source": [
    "for col in x.columns:\n",
    "    x[f'{col}'].fillna(x[f'{col}'].mode()[0], inplace = True)"
   ]
  },
  {
   "cell_type": "code",
   "execution_count": 9,
   "id": "124310aa",
   "metadata": {},
   "outputs": [],
   "source": [
    "#From 1 - 15, where 1 represents least weightage and 15 represents highest weightage of a gradepoint\n",
    "\n",
    "X = {'A+': 15, 'A': 14, 'A-': 13, 'B+': 12, 'B': 11, 'B-': 10,\n",
    "    'C+': 9, 'C': 8, 'C-': 7, 'D+': 6, 'D': 5, 'F': 4,\n",
    "     'I' : 3, 'W': 2, 'WU': 1}\n",
    "                \n",
    "x = x.replace(X)    #replace all alphabetic grades with integer values\n"
   ]
  },
  {
   "cell_type": "code",
   "execution_count": 10,
   "id": "dbfe0fec",
   "metadata": {},
   "outputs": [
    {
     "data": {
      "text/html": [
       "<div>\n",
       "<style scoped>\n",
       "    .dataframe tbody tr th:only-of-type {\n",
       "        vertical-align: middle;\n",
       "    }\n",
       "\n",
       "    .dataframe tbody tr th {\n",
       "        vertical-align: top;\n",
       "    }\n",
       "\n",
       "    .dataframe thead th {\n",
       "        text-align: right;\n",
       "    }\n",
       "</style>\n",
       "<table border=\"1\" class=\"dataframe\">\n",
       "  <thead>\n",
       "    <tr style=\"text-align: right;\">\n",
       "      <th></th>\n",
       "      <th>PH-121</th>\n",
       "      <th>HS-101</th>\n",
       "      <th>CY-105</th>\n",
       "      <th>HS-105/12</th>\n",
       "      <th>MT-111</th>\n",
       "      <th>CS-105</th>\n",
       "      <th>CS-106</th>\n",
       "      <th>EL-102</th>\n",
       "      <th>EE-119</th>\n",
       "      <th>ME-107</th>\n",
       "      <th>...</th>\n",
       "      <th>EF-303</th>\n",
       "      <th>HS-304</th>\n",
       "      <th>CS-301</th>\n",
       "      <th>CS-302</th>\n",
       "      <th>TC-383</th>\n",
       "      <th>EL-332</th>\n",
       "      <th>CS-318</th>\n",
       "      <th>CS-306</th>\n",
       "      <th>CS-312</th>\n",
       "      <th>CS-317</th>\n",
       "    </tr>\n",
       "  </thead>\n",
       "  <tbody>\n",
       "    <tr>\n",
       "      <th>0</th>\n",
       "      <td>10</td>\n",
       "      <td>6</td>\n",
       "      <td>7</td>\n",
       "      <td>8</td>\n",
       "      <td>7</td>\n",
       "      <td>6</td>\n",
       "      <td>5</td>\n",
       "      <td>7</td>\n",
       "      <td>10</td>\n",
       "      <td>7</td>\n",
       "      <td>...</td>\n",
       "      <td>7</td>\n",
       "      <td>9</td>\n",
       "      <td>11</td>\n",
       "      <td>8</td>\n",
       "      <td>9</td>\n",
       "      <td>8</td>\n",
       "      <td>7</td>\n",
       "      <td>8</td>\n",
       "      <td>7</td>\n",
       "      <td>7</td>\n",
       "    </tr>\n",
       "    <tr>\n",
       "      <th>1</th>\n",
       "      <td>14</td>\n",
       "      <td>5</td>\n",
       "      <td>6</td>\n",
       "      <td>5</td>\n",
       "      <td>10</td>\n",
       "      <td>8</td>\n",
       "      <td>5</td>\n",
       "      <td>14</td>\n",
       "      <td>6</td>\n",
       "      <td>5</td>\n",
       "      <td>...</td>\n",
       "      <td>5</td>\n",
       "      <td>7</td>\n",
       "      <td>13</td>\n",
       "      <td>6</td>\n",
       "      <td>7</td>\n",
       "      <td>8</td>\n",
       "      <td>13</td>\n",
       "      <td>5</td>\n",
       "      <td>6</td>\n",
       "      <td>5</td>\n",
       "    </tr>\n",
       "    <tr>\n",
       "      <th>2</th>\n",
       "      <td>14</td>\n",
       "      <td>11</td>\n",
       "      <td>14</td>\n",
       "      <td>10</td>\n",
       "      <td>12</td>\n",
       "      <td>14</td>\n",
       "      <td>10</td>\n",
       "      <td>12</td>\n",
       "      <td>13</td>\n",
       "      <td>13</td>\n",
       "      <td>...</td>\n",
       "      <td>9</td>\n",
       "      <td>14</td>\n",
       "      <td>12</td>\n",
       "      <td>13</td>\n",
       "      <td>11</td>\n",
       "      <td>12</td>\n",
       "      <td>13</td>\n",
       "      <td>13</td>\n",
       "      <td>11</td>\n",
       "      <td>11</td>\n",
       "    </tr>\n",
       "    <tr>\n",
       "      <th>3</th>\n",
       "      <td>5</td>\n",
       "      <td>9</td>\n",
       "      <td>6</td>\n",
       "      <td>5</td>\n",
       "      <td>5</td>\n",
       "      <td>13</td>\n",
       "      <td>6</td>\n",
       "      <td>7</td>\n",
       "      <td>5</td>\n",
       "      <td>9</td>\n",
       "      <td>...</td>\n",
       "      <td>5</td>\n",
       "      <td>10</td>\n",
       "      <td>5</td>\n",
       "      <td>10</td>\n",
       "      <td>6</td>\n",
       "      <td>6</td>\n",
       "      <td>12</td>\n",
       "      <td>7</td>\n",
       "      <td>6</td>\n",
       "      <td>8</td>\n",
       "    </tr>\n",
       "    <tr>\n",
       "      <th>4</th>\n",
       "      <td>13</td>\n",
       "      <td>13</td>\n",
       "      <td>13</td>\n",
       "      <td>12</td>\n",
       "      <td>14</td>\n",
       "      <td>14</td>\n",
       "      <td>13</td>\n",
       "      <td>12</td>\n",
       "      <td>14</td>\n",
       "      <td>13</td>\n",
       "      <td>...</td>\n",
       "      <td>7</td>\n",
       "      <td>13</td>\n",
       "      <td>10</td>\n",
       "      <td>13</td>\n",
       "      <td>9</td>\n",
       "      <td>13</td>\n",
       "      <td>10</td>\n",
       "      <td>13</td>\n",
       "      <td>10</td>\n",
       "      <td>12</td>\n",
       "    </tr>\n",
       "    <tr>\n",
       "      <th>...</th>\n",
       "      <td>...</td>\n",
       "      <td>...</td>\n",
       "      <td>...</td>\n",
       "      <td>...</td>\n",
       "      <td>...</td>\n",
       "      <td>...</td>\n",
       "      <td>...</td>\n",
       "      <td>...</td>\n",
       "      <td>...</td>\n",
       "      <td>...</td>\n",
       "      <td>...</td>\n",
       "      <td>...</td>\n",
       "      <td>...</td>\n",
       "      <td>...</td>\n",
       "      <td>...</td>\n",
       "      <td>...</td>\n",
       "      <td>...</td>\n",
       "      <td>...</td>\n",
       "      <td>...</td>\n",
       "      <td>...</td>\n",
       "      <td>...</td>\n",
       "    </tr>\n",
       "    <tr>\n",
       "      <th>566</th>\n",
       "      <td>11</td>\n",
       "      <td>14</td>\n",
       "      <td>14</td>\n",
       "      <td>13</td>\n",
       "      <td>15</td>\n",
       "      <td>14</td>\n",
       "      <td>13</td>\n",
       "      <td>13</td>\n",
       "      <td>15</td>\n",
       "      <td>12</td>\n",
       "      <td>...</td>\n",
       "      <td>11</td>\n",
       "      <td>13</td>\n",
       "      <td>13</td>\n",
       "      <td>14</td>\n",
       "      <td>15</td>\n",
       "      <td>14</td>\n",
       "      <td>14</td>\n",
       "      <td>12</td>\n",
       "      <td>13</td>\n",
       "      <td>13</td>\n",
       "    </tr>\n",
       "    <tr>\n",
       "      <th>567</th>\n",
       "      <td>15</td>\n",
       "      <td>14</td>\n",
       "      <td>14</td>\n",
       "      <td>14</td>\n",
       "      <td>14</td>\n",
       "      <td>14</td>\n",
       "      <td>14</td>\n",
       "      <td>13</td>\n",
       "      <td>14</td>\n",
       "      <td>14</td>\n",
       "      <td>...</td>\n",
       "      <td>14</td>\n",
       "      <td>14</td>\n",
       "      <td>14</td>\n",
       "      <td>14</td>\n",
       "      <td>14</td>\n",
       "      <td>14</td>\n",
       "      <td>15</td>\n",
       "      <td>13</td>\n",
       "      <td>12</td>\n",
       "      <td>12</td>\n",
       "    </tr>\n",
       "    <tr>\n",
       "      <th>568</th>\n",
       "      <td>11</td>\n",
       "      <td>14</td>\n",
       "      <td>13</td>\n",
       "      <td>12</td>\n",
       "      <td>14</td>\n",
       "      <td>14</td>\n",
       "      <td>14</td>\n",
       "      <td>14</td>\n",
       "      <td>14</td>\n",
       "      <td>11</td>\n",
       "      <td>...</td>\n",
       "      <td>11</td>\n",
       "      <td>10</td>\n",
       "      <td>12</td>\n",
       "      <td>12</td>\n",
       "      <td>14</td>\n",
       "      <td>11</td>\n",
       "      <td>9</td>\n",
       "      <td>12</td>\n",
       "      <td>13</td>\n",
       "      <td>11</td>\n",
       "    </tr>\n",
       "    <tr>\n",
       "      <th>569</th>\n",
       "      <td>14</td>\n",
       "      <td>12</td>\n",
       "      <td>5</td>\n",
       "      <td>14</td>\n",
       "      <td>5</td>\n",
       "      <td>6</td>\n",
       "      <td>10</td>\n",
       "      <td>7</td>\n",
       "      <td>10</td>\n",
       "      <td>7</td>\n",
       "      <td>...</td>\n",
       "      <td>5</td>\n",
       "      <td>8</td>\n",
       "      <td>8</td>\n",
       "      <td>9</td>\n",
       "      <td>7</td>\n",
       "      <td>5</td>\n",
       "      <td>10</td>\n",
       "      <td>12</td>\n",
       "      <td>5</td>\n",
       "      <td>11</td>\n",
       "    </tr>\n",
       "    <tr>\n",
       "      <th>570</th>\n",
       "      <td>8</td>\n",
       "      <td>5</td>\n",
       "      <td>5</td>\n",
       "      <td>8</td>\n",
       "      <td>8</td>\n",
       "      <td>6</td>\n",
       "      <td>11</td>\n",
       "      <td>9</td>\n",
       "      <td>8</td>\n",
       "      <td>6</td>\n",
       "      <td>...</td>\n",
       "      <td>5</td>\n",
       "      <td>4</td>\n",
       "      <td>5</td>\n",
       "      <td>5</td>\n",
       "      <td>8</td>\n",
       "      <td>4</td>\n",
       "      <td>7</td>\n",
       "      <td>6</td>\n",
       "      <td>9</td>\n",
       "      <td>8</td>\n",
       "    </tr>\n",
       "  </tbody>\n",
       "</table>\n",
       "<p>571 rows × 33 columns</p>\n",
       "</div>"
      ],
      "text/plain": [
       "     PH-121  HS-101  CY-105  HS-105/12  MT-111  CS-105  CS-106  EL-102  \\\n",
       "0        10       6       7          8       7       6       5       7   \n",
       "1        14       5       6          5      10       8       5      14   \n",
       "2        14      11      14         10      12      14      10      12   \n",
       "3         5       9       6          5       5      13       6       7   \n",
       "4        13      13      13         12      14      14      13      12   \n",
       "..      ...     ...     ...        ...     ...     ...     ...     ...   \n",
       "566      11      14      14         13      15      14      13      13   \n",
       "567      15      14      14         14      14      14      14      13   \n",
       "568      11      14      13         12      14      14      14      14   \n",
       "569      14      12       5         14       5       6      10       7   \n",
       "570       8       5       5          8       8       6      11       9   \n",
       "\n",
       "     EE-119  ME-107  ...  EF-303  HS-304  CS-301  CS-302  TC-383  EL-332  \\\n",
       "0        10       7  ...       7       9      11       8       9       8   \n",
       "1         6       5  ...       5       7      13       6       7       8   \n",
       "2        13      13  ...       9      14      12      13      11      12   \n",
       "3         5       9  ...       5      10       5      10       6       6   \n",
       "4        14      13  ...       7      13      10      13       9      13   \n",
       "..      ...     ...  ...     ...     ...     ...     ...     ...     ...   \n",
       "566      15      12  ...      11      13      13      14      15      14   \n",
       "567      14      14  ...      14      14      14      14      14      14   \n",
       "568      14      11  ...      11      10      12      12      14      11   \n",
       "569      10       7  ...       5       8       8       9       7       5   \n",
       "570       8       6  ...       5       4       5       5       8       4   \n",
       "\n",
       "     CS-318  CS-306  CS-312  CS-317  \n",
       "0         7       8       7       7  \n",
       "1        13       5       6       5  \n",
       "2        13      13      11      11  \n",
       "3        12       7       6       8  \n",
       "4        10      13      10      12  \n",
       "..      ...     ...     ...     ...  \n",
       "566      14      12      13      13  \n",
       "567      15      13      12      12  \n",
       "568       9      12      13      11  \n",
       "569      10      12       5      11  \n",
       "570       7       6       9       8  \n",
       "\n",
       "[571 rows x 33 columns]"
      ]
     },
     "execution_count": 10,
     "metadata": {},
     "output_type": "execute_result"
    }
   ],
   "source": [
    "\n",
    "x"
   ]
  },
  {
   "cell_type": "code",
   "execution_count": 11,
   "id": "977f6d42",
   "metadata": {},
   "outputs": [],
   "source": [
    "x_train, x_test, y_train, y_test = train_test_split(x, y, test_size=0.2)  #splitting a data into testing(20%) and training(80%)"
   ]
  },
  {
   "cell_type": "code",
   "execution_count": 12,
   "id": "e6fbd139",
   "metadata": {},
   "outputs": [
    {
     "data": {
      "text/html": [
       "<style>#sk-container-id-1 {color: black;}#sk-container-id-1 pre{padding: 0;}#sk-container-id-1 div.sk-toggleable {background-color: white;}#sk-container-id-1 label.sk-toggleable__label {cursor: pointer;display: block;width: 100%;margin-bottom: 0;padding: 0.3em;box-sizing: border-box;text-align: center;}#sk-container-id-1 label.sk-toggleable__label-arrow:before {content: \"▸\";float: left;margin-right: 0.25em;color: #696969;}#sk-container-id-1 label.sk-toggleable__label-arrow:hover:before {color: black;}#sk-container-id-1 div.sk-estimator:hover label.sk-toggleable__label-arrow:before {color: black;}#sk-container-id-1 div.sk-toggleable__content {max-height: 0;max-width: 0;overflow: hidden;text-align: left;background-color: #f0f8ff;}#sk-container-id-1 div.sk-toggleable__content pre {margin: 0.2em;color: black;border-radius: 0.25em;background-color: #f0f8ff;}#sk-container-id-1 input.sk-toggleable__control:checked~div.sk-toggleable__content {max-height: 200px;max-width: 100%;overflow: auto;}#sk-container-id-1 input.sk-toggleable__control:checked~label.sk-toggleable__label-arrow:before {content: \"▾\";}#sk-container-id-1 div.sk-estimator input.sk-toggleable__control:checked~label.sk-toggleable__label {background-color: #d4ebff;}#sk-container-id-1 div.sk-label input.sk-toggleable__control:checked~label.sk-toggleable__label {background-color: #d4ebff;}#sk-container-id-1 input.sk-hidden--visually {border: 0;clip: rect(1px 1px 1px 1px);clip: rect(1px, 1px, 1px, 1px);height: 1px;margin: -1px;overflow: hidden;padding: 0;position: absolute;width: 1px;}#sk-container-id-1 div.sk-estimator {font-family: monospace;background-color: #f0f8ff;border: 1px dotted black;border-radius: 0.25em;box-sizing: border-box;margin-bottom: 0.5em;}#sk-container-id-1 div.sk-estimator:hover {background-color: #d4ebff;}#sk-container-id-1 div.sk-parallel-item::after {content: \"\";width: 100%;border-bottom: 1px solid gray;flex-grow: 1;}#sk-container-id-1 div.sk-label:hover label.sk-toggleable__label {background-color: #d4ebff;}#sk-container-id-1 div.sk-serial::before {content: \"\";position: absolute;border-left: 1px solid gray;box-sizing: border-box;top: 0;bottom: 0;left: 50%;z-index: 0;}#sk-container-id-1 div.sk-serial {display: flex;flex-direction: column;align-items: center;background-color: white;padding-right: 0.2em;padding-left: 0.2em;position: relative;}#sk-container-id-1 div.sk-item {position: relative;z-index: 1;}#sk-container-id-1 div.sk-parallel {display: flex;align-items: stretch;justify-content: center;background-color: white;position: relative;}#sk-container-id-1 div.sk-item::before, #sk-container-id-1 div.sk-parallel-item::before {content: \"\";position: absolute;border-left: 1px solid gray;box-sizing: border-box;top: 0;bottom: 0;left: 50%;z-index: -1;}#sk-container-id-1 div.sk-parallel-item {display: flex;flex-direction: column;z-index: 1;position: relative;background-color: white;}#sk-container-id-1 div.sk-parallel-item:first-child::after {align-self: flex-end;width: 50%;}#sk-container-id-1 div.sk-parallel-item:last-child::after {align-self: flex-start;width: 50%;}#sk-container-id-1 div.sk-parallel-item:only-child::after {width: 0;}#sk-container-id-1 div.sk-dashed-wrapped {border: 1px dashed gray;margin: 0 0.4em 0.5em 0.4em;box-sizing: border-box;padding-bottom: 0.4em;background-color: white;}#sk-container-id-1 div.sk-label label {font-family: monospace;font-weight: bold;display: inline-block;line-height: 1.2em;}#sk-container-id-1 div.sk-label-container {text-align: center;}#sk-container-id-1 div.sk-container {/* jupyter's `normalize.less` sets `[hidden] { display: none; }` but bootstrap.min.css set `[hidden] { display: none !important; }` so we also need the `!important` here to be able to override the default hidden behavior on the sphinx rendered scikit-learn.org. See: https://github.com/scikit-learn/scikit-learn/issues/21755 */display: inline-block !important;position: relative;}#sk-container-id-1 div.sk-text-repr-fallback {display: none;}</style><div id=\"sk-container-id-1\" class=\"sk-top-container\"><div class=\"sk-text-repr-fallback\"><pre>LinearRegression()</pre><b>In a Jupyter environment, please rerun this cell to show the HTML representation or trust the notebook. <br />On GitHub, the HTML representation is unable to render, please try loading this page with nbviewer.org.</b></div><div class=\"sk-container\" hidden><div class=\"sk-item\"><div class=\"sk-estimator sk-toggleable\"><input class=\"sk-toggleable__control sk-hidden--visually\" id=\"sk-estimator-id-1\" type=\"checkbox\" checked><label for=\"sk-estimator-id-1\" class=\"sk-toggleable__label sk-toggleable__label-arrow\">LinearRegression</label><div class=\"sk-toggleable__content\"><pre>LinearRegression()</pre></div></div></div></div></div>"
      ],
      "text/plain": [
       "LinearRegression()"
      ]
     },
     "execution_count": 12,
     "metadata": {},
     "output_type": "execute_result"
    }
   ],
   "source": [
    "model1 = LinearRegression()    \n",
    "model1.fit(x_train,y_train) "
   ]
  },
  {
   "cell_type": "code",
   "execution_count": 13,
   "id": "8818c40b",
   "metadata": {},
   "outputs": [
    {
     "name": "stdout",
     "output_type": "stream",
     "text": [
      "Training Score: 94.131 %\n"
     ]
    }
   ],
   "source": [
    "model1_score = model1.score(x_train, y_train)    #Calculating a Training score by providing trained data\n",
    "print('Training Score:' , round(model1_score*100, 3) , '%') "
   ]
  },
  {
   "cell_type": "code",
   "execution_count": 14,
   "id": "9de09304",
   "metadata": {},
   "outputs": [],
   "source": [
    "y_lin_pred1 = model1.predict(x_test)    #checking the prediction of a model by providing test data\n"
   ]
  },
  {
   "cell_type": "code",
   "execution_count": 15,
   "id": "72615b45",
   "metadata": {},
   "outputs": [
    {
     "name": "stdout",
     "output_type": "stream",
     "text": [
      "Testing Score: 90.686 %\n"
     ]
    }
   ],
   "source": [
    "model1_score = model1.score(x_test, y_test)           #Calculating a Testing score by providing test data\n",
    "print('Testing Score:' , round(model1_score*100, 3) , '%')"
   ]
  },
  {
   "cell_type": "code",
   "execution_count": 20,
   "id": "46962d00",
   "metadata": {},
   "outputs": [
    {
     "name": "stdout",
     "output_type": "stream",
     "text": [
      "Enter grade of: \n",
      "PH-121: 6\n",
      "Enter grade of: \n",
      "HS-101: 5\n",
      "Enter grade of: \n",
      "CY-105: 4\n",
      "Enter grade of: \n",
      "HS-105/12: 6\n",
      "Enter grade of: \n",
      "MT-111: 3\n",
      "Enter grade of: \n",
      "CS-105: 6\n",
      "Enter grade of: \n",
      "CS-106: 7\n",
      "Enter grade of: \n",
      "EL-102: 5\n",
      "Enter grade of: \n",
      "EE-119: 6\n",
      "Enter grade of: \n",
      "ME-107: 4\n",
      "Enter grade of: \n",
      "CS-107: 6\n",
      "Enter grade of: \n",
      "HS-205/20: 8\n",
      "Enter grade of: \n",
      "MT-222: 6\n",
      "Enter grade of: \n",
      "EE-222: 5\n",
      "Enter grade of: \n",
      "MT-224: 7\n",
      "Enter grade of: \n",
      "CS-210: 6\n",
      "Enter grade of: \n",
      "CS-211: 5\n",
      "Enter grade of: \n",
      "CS-203: 4\n",
      "Enter grade of: \n",
      "CS-214: 6\n",
      "Enter grade of: \n",
      "EE-217: 7\n",
      "Enter grade of: \n",
      "CS-212: 5\n",
      "Enter grade of: \n",
      "CS-215: 4\n",
      "Enter grade of: \n",
      "MT-331: 7\n",
      "Enter grade of: \n",
      "EF-303: 4\n",
      "Enter grade of: \n",
      "HS-304: 7\n",
      "Enter grade of: \n",
      "CS-301: 4\n",
      "Enter grade of: \n",
      "CS-302: 7\n",
      "Enter grade of: \n",
      "TC-383: 6\n",
      "Enter grade of: \n",
      "EL-332: 7\n",
      "Enter grade of: \n",
      "CS-318: 6\n",
      "Enter grade of: \n",
      "CS-306: 7\n",
      "Enter grade of: \n",
      "CS-312: 6\n",
      "Enter grade of: \n",
      "CS-317: 7\n"
     ]
    }
   ],
   "source": [
    "lst = []                #empty list initiated\n",
    "x_col = x.columns       #fetching column first element like a name of specific course\n",
    "\n",
    "for i in x_col:\n",
    "  enter = int(input(f'Enter grade of: \\n{i}: '))\n",
    "  lst.append(enter)     #list is appended with provided grade\n",
    "lst2 = [lst]            #list is converted to 2D"
   ]
  },
  {
   "cell_type": "code",
   "execution_count": 21,
   "id": "236066cf",
   "metadata": {},
   "outputs": [
    {
     "name": "stdout",
     "output_type": "stream",
     "text": [
      "CGPA:  1.387\n"
     ]
    },
    {
     "name": "stderr",
     "output_type": "stream",
     "text": [
      "C:\\Users\\goswa\\anaconda3\\Lib\\site-packages\\sklearn\\base.py:464: UserWarning: X does not have valid feature names, but LinearRegression was fitted with feature names\n",
      "  warnings.warn(\n"
     ]
    }
   ],
   "source": [
    "lst1=model1.predict(lst2)         #Predict Gpa by providing individual course grade\n",
    "lim_gpa=np.clip(lst1[0][0], a_min = 0, a_max = 4)     #if CGPA is in -ve then it will clamp to 0.0 if it greater than 4 will clamp to 4\n",
    "print('CGPA: ' , round(lim_gpa, 3))"
   ]
  },
  {
   "cell_type": "markdown",
   "id": "5b1ed2a3",
   "metadata": {},
   "source": [
    "# Evaluating Linear Regression for Model 3"
   ]
  },
  {
   "cell_type": "markdown",
   "id": "13ad614d",
   "metadata": {},
   "source": [
    "Mean Squared Error"
   ]
  },
  {
   "cell_type": "code",
   "execution_count": 22,
   "id": "705b60c5",
   "metadata": {},
   "outputs": [
    {
     "name": "stdout",
     "output_type": "stream",
     "text": [
      "i - Mean Squared Error: 0.032\n"
     ]
    }
   ],
   "source": [
    "# mean_squared_error\n",
    "mse_lr_model3 = mean_squared_error(y_test, y_lin_pred1)\n",
    "print(\"i - Mean Squared Error:\", round(mse_lr_model3, 3))"
   ]
  },
  {
   "cell_type": "markdown",
   "id": "e1fc6288",
   "metadata": {},
   "source": [
    "Mean Absolute Error"
   ]
  },
  {
   "cell_type": "code",
   "execution_count": 23,
   "id": "9b4a0170",
   "metadata": {},
   "outputs": [
    {
     "name": "stdout",
     "output_type": "stream",
     "text": [
      "iii - Mean Absolute Error: 0.098\n"
     ]
    }
   ],
   "source": [
    "mae_lr_model3 = mean_absolute_error(y_test, y_lin_pred1)\n",
    "print(\"iii - Mean Absolute Error:\", round(mae_lr_model3, 3))"
   ]
  },
  {
   "cell_type": "markdown",
   "id": "9a670df7",
   "metadata": {},
   "source": [
    "Root Mean Squared Error"
   ]
  },
  {
   "cell_type": "code",
   "execution_count": 24,
   "id": "e3874602",
   "metadata": {},
   "outputs": [
    {
     "name": "stdout",
     "output_type": "stream",
     "text": [
      "ii - Root Mean Squared Error: 0.18\n"
     ]
    }
   ],
   "source": [
    "#root mean_squared_error\n",
    "rmse_lr_model3 = mean_squared_error(y_test, y_lin_pred1, squared=False)\n",
    "print(\"ii - Root Mean Squared Error:\", round(rmse_lr_model3, 3))"
   ]
  },
  {
   "cell_type": "code",
   "execution_count": 25,
   "id": "b1d4eacd",
   "metadata": {},
   "outputs": [
    {
     "name": "stdout",
     "output_type": "stream",
     "text": [
      "i - Mean Squared Error: 0.032\n",
      "ii - Root Mean Squared Error: 0.18\n",
      "iii - Mean Absolute Error: 0.098\n"
     ]
    }
   ],
   "source": [
    "print(\"i - Mean Squared Error:\", round(mse_lr_model3, 3))\n",
    "print(\"ii - Root Mean Squared Error:\", round(rmse_lr_model3, 3))\n",
    "print(\"iii - Mean Absolute Error:\", round(mae_lr_model3, 3))"
   ]
  },
  {
   "cell_type": "markdown",
   "id": "00dc7430",
   "metadata": {},
   "source": [
    "# SVM Support Vector Machine"
   ]
  },
  {
   "cell_type": "code",
   "execution_count": 26,
   "id": "762422be",
   "metadata": {},
   "outputs": [],
   "source": [
    "x_train, x_test, y_train, y_test = train_test_split(x, y, test_size=0.2)          #splitting a data i"
   ]
  },
  {
   "cell_type": "code",
   "execution_count": 27,
   "id": "46d05a4f",
   "metadata": {},
   "outputs": [
    {
     "name": "stderr",
     "output_type": "stream",
     "text": [
      "C:\\Users\\goswa\\anaconda3\\Lib\\site-packages\\sklearn\\utils\\validation.py:1184: DataConversionWarning: A column-vector y was passed when a 1d array was expected. Please change the shape of y to (n_samples, ), for example using ravel().\n",
      "  y = column_or_1d(y, warn=True)\n"
     ]
    },
    {
     "data": {
      "text/html": [
       "<style>#sk-container-id-2 {color: black;}#sk-container-id-2 pre{padding: 0;}#sk-container-id-2 div.sk-toggleable {background-color: white;}#sk-container-id-2 label.sk-toggleable__label {cursor: pointer;display: block;width: 100%;margin-bottom: 0;padding: 0.3em;box-sizing: border-box;text-align: center;}#sk-container-id-2 label.sk-toggleable__label-arrow:before {content: \"▸\";float: left;margin-right: 0.25em;color: #696969;}#sk-container-id-2 label.sk-toggleable__label-arrow:hover:before {color: black;}#sk-container-id-2 div.sk-estimator:hover label.sk-toggleable__label-arrow:before {color: black;}#sk-container-id-2 div.sk-toggleable__content {max-height: 0;max-width: 0;overflow: hidden;text-align: left;background-color: #f0f8ff;}#sk-container-id-2 div.sk-toggleable__content pre {margin: 0.2em;color: black;border-radius: 0.25em;background-color: #f0f8ff;}#sk-container-id-2 input.sk-toggleable__control:checked~div.sk-toggleable__content {max-height: 200px;max-width: 100%;overflow: auto;}#sk-container-id-2 input.sk-toggleable__control:checked~label.sk-toggleable__label-arrow:before {content: \"▾\";}#sk-container-id-2 div.sk-estimator input.sk-toggleable__control:checked~label.sk-toggleable__label {background-color: #d4ebff;}#sk-container-id-2 div.sk-label input.sk-toggleable__control:checked~label.sk-toggleable__label {background-color: #d4ebff;}#sk-container-id-2 input.sk-hidden--visually {border: 0;clip: rect(1px 1px 1px 1px);clip: rect(1px, 1px, 1px, 1px);height: 1px;margin: -1px;overflow: hidden;padding: 0;position: absolute;width: 1px;}#sk-container-id-2 div.sk-estimator {font-family: monospace;background-color: #f0f8ff;border: 1px dotted black;border-radius: 0.25em;box-sizing: border-box;margin-bottom: 0.5em;}#sk-container-id-2 div.sk-estimator:hover {background-color: #d4ebff;}#sk-container-id-2 div.sk-parallel-item::after {content: \"\";width: 100%;border-bottom: 1px solid gray;flex-grow: 1;}#sk-container-id-2 div.sk-label:hover label.sk-toggleable__label {background-color: #d4ebff;}#sk-container-id-2 div.sk-serial::before {content: \"\";position: absolute;border-left: 1px solid gray;box-sizing: border-box;top: 0;bottom: 0;left: 50%;z-index: 0;}#sk-container-id-2 div.sk-serial {display: flex;flex-direction: column;align-items: center;background-color: white;padding-right: 0.2em;padding-left: 0.2em;position: relative;}#sk-container-id-2 div.sk-item {position: relative;z-index: 1;}#sk-container-id-2 div.sk-parallel {display: flex;align-items: stretch;justify-content: center;background-color: white;position: relative;}#sk-container-id-2 div.sk-item::before, #sk-container-id-2 div.sk-parallel-item::before {content: \"\";position: absolute;border-left: 1px solid gray;box-sizing: border-box;top: 0;bottom: 0;left: 50%;z-index: -1;}#sk-container-id-2 div.sk-parallel-item {display: flex;flex-direction: column;z-index: 1;position: relative;background-color: white;}#sk-container-id-2 div.sk-parallel-item:first-child::after {align-self: flex-end;width: 50%;}#sk-container-id-2 div.sk-parallel-item:last-child::after {align-self: flex-start;width: 50%;}#sk-container-id-2 div.sk-parallel-item:only-child::after {width: 0;}#sk-container-id-2 div.sk-dashed-wrapped {border: 1px dashed gray;margin: 0 0.4em 0.5em 0.4em;box-sizing: border-box;padding-bottom: 0.4em;background-color: white;}#sk-container-id-2 div.sk-label label {font-family: monospace;font-weight: bold;display: inline-block;line-height: 1.2em;}#sk-container-id-2 div.sk-label-container {text-align: center;}#sk-container-id-2 div.sk-container {/* jupyter's `normalize.less` sets `[hidden] { display: none; }` but bootstrap.min.css set `[hidden] { display: none !important; }` so we also need the `!important` here to be able to override the default hidden behavior on the sphinx rendered scikit-learn.org. See: https://github.com/scikit-learn/scikit-learn/issues/21755 */display: inline-block !important;position: relative;}#sk-container-id-2 div.sk-text-repr-fallback {display: none;}</style><div id=\"sk-container-id-2\" class=\"sk-top-container\"><div class=\"sk-text-repr-fallback\"><pre>SVR(kernel=&#x27;linear&#x27;)</pre><b>In a Jupyter environment, please rerun this cell to show the HTML representation or trust the notebook. <br />On GitHub, the HTML representation is unable to render, please try loading this page with nbviewer.org.</b></div><div class=\"sk-container\" hidden><div class=\"sk-item\"><div class=\"sk-estimator sk-toggleable\"><input class=\"sk-toggleable__control sk-hidden--visually\" id=\"sk-estimator-id-2\" type=\"checkbox\" checked><label for=\"sk-estimator-id-2\" class=\"sk-toggleable__label sk-toggleable__label-arrow\">SVR</label><div class=\"sk-toggleable__content\"><pre>SVR(kernel=&#x27;linear&#x27;)</pre></div></div></div></div></div>"
      ],
      "text/plain": [
       "SVR(kernel='linear')"
      ]
     },
     "execution_count": 27,
     "metadata": {},
     "output_type": "execute_result"
    }
   ],
   "source": [
    "regressor_1 = SVR(kernel='linear')       #applying svr and kernel is set to linear\n",
    "regressor_1.fit(x_train,y_train)         #Fitting a Model "
   ]
  },
  {
   "cell_type": "code",
   "execution_count": 28,
   "id": "84ef3767",
   "metadata": {},
   "outputs": [
    {
     "name": "stdout",
     "output_type": "stream",
     "text": [
      "Training Score: 91.745 %\n"
     ]
    }
   ],
   "source": [
    "regressor_1_score = regressor_1.score(x_train, y_train)       #Calculating Training Score\n",
    "print('Training Score:' , round(regressor_1_score*100, 3) , '%')"
   ]
  },
  {
   "cell_type": "code",
   "execution_count": 29,
   "id": "3ac7fd8f",
   "metadata": {},
   "outputs": [],
   "source": [
    "y_predict_svm = regressor_1.predict(x_test)     #predicting model"
   ]
  },
  {
   "cell_type": "code",
   "execution_count": 30,
   "id": "679aaead",
   "metadata": {},
   "outputs": [
    {
     "name": "stdout",
     "output_type": "stream",
     "text": [
      "Enter grade of: \n",
      "PH-121: 5\n",
      "Enter grade of: \n",
      "HS-101: 6\n",
      "Enter grade of: \n",
      "CY-105: 4\n",
      "Enter grade of: \n",
      "HS-105/12: 6\n",
      "Enter grade of: \n",
      "MT-111: 4\n",
      "Enter grade of: \n",
      "CS-105: 4\n",
      "Enter grade of: \n",
      "CS-106: 6\n",
      "Enter grade of: \n",
      "EL-102: 7\n",
      "Enter grade of: \n",
      "EE-119: 5\n",
      "Enter grade of: \n",
      "ME-107: 6\n",
      "Enter grade of: \n",
      "CS-107: 7\n",
      "Enter grade of: \n",
      "HS-205/20: 4\n",
      "Enter grade of: \n",
      "MT-222: 6\n",
      "Enter grade of: \n",
      "EE-222: 4\n",
      "Enter grade of: \n",
      "MT-224: 7\n",
      "Enter grade of: \n",
      "CS-210: 5\n",
      "Enter grade of: \n",
      "CS-211: 7\n",
      "Enter grade of: \n",
      "CS-203: 4\n",
      "Enter grade of: \n",
      "CS-214: 7\n",
      "Enter grade of: \n",
      "EE-217: 7\n",
      "Enter grade of: \n",
      "CS-212: 4\n",
      "Enter grade of: \n",
      "CS-215: 3\n",
      "Enter grade of: \n",
      "MT-331: 7\n",
      "Enter grade of: \n",
      "EF-303: 7\n",
      "Enter grade of: \n",
      "HS-304: 8\n",
      "Enter grade of: \n",
      "CS-301: 6\n",
      "Enter grade of: \n",
      "CS-302: 4\n",
      "Enter grade of: \n",
      "TC-383: 7\n",
      "Enter grade of: \n",
      "EL-332: 8\n",
      "Enter grade of: \n",
      "CS-318: 5\n",
      "Enter grade of: \n",
      "CS-306: 4\n",
      "Enter grade of: \n",
      "CS-312: 8\n",
      "Enter grade of: \n",
      "CS-317: 4\n",
      "CGPA:  1.327\n"
     ]
    },
    {
     "name": "stderr",
     "output_type": "stream",
     "text": [
      "C:\\Users\\goswa\\anaconda3\\Lib\\site-packages\\sklearn\\base.py:464: UserWarning: X does not have valid feature names, but SVR was fitted with feature names\n",
      "  warnings.warn(\n"
     ]
    }
   ],
   "source": [
    "lst_svm = []\n",
    "x_col = x.columns\n",
    "\n",
    "for i in x_col:\n",
    "  enter = int(input(f'Enter grade of: \\n{i}: '))\n",
    "  lst_svm.append(enter)\n",
    "lst_svm =[lst_svm]\n",
    "\n",
    "\n",
    "y_svm_predict1 = regressor_1.predict(lst_svm)\n",
    "lim_gpa1=np.clip(y_svm_predict1[0], a_min = 0, a_max = 4)\n",
    "print('CGPA: ' , round(lim_gpa1, 3))"
   ]
  },
  {
   "cell_type": "code",
   "execution_count": 31,
   "id": "c53287c5",
   "metadata": {},
   "outputs": [
    {
     "name": "stdout",
     "output_type": "stream",
     "text": [
      "i - Mean Squared Error: 0.009\n"
     ]
    }
   ],
   "source": [
    "# Mean Squared Error\n",
    "\n",
    "# mean_squared_error\n",
    "mse_svr_model3 = mean_squared_error(y_test, y_predict_svm)\n",
    "print(\"i - Mean Squared Error:\", round(mse_svr_model3, 3))"
   ]
  },
  {
   "cell_type": "code",
   "execution_count": 32,
   "id": "3cd11ffc",
   "metadata": {},
   "outputs": [
    {
     "name": "stdout",
     "output_type": "stream",
     "text": [
      "ii - Root Mean Squared Error: 0.093\n"
     ]
    }
   ],
   "source": [
    "# Root Mean Squared Error\n",
    "\n",
    "#root mean_squared_error\n",
    "rmse_svr_model3 = mean_squared_error(y_test, y_predict_svm, squared=False)\n",
    "print(\"ii - Root Mean Squared Error:\", round(rmse_svr_model3, 3))"
   ]
  },
  {
   "cell_type": "code",
   "execution_count": 34,
   "id": "03e44e2f",
   "metadata": {},
   "outputs": [
    {
     "name": "stdout",
     "output_type": "stream",
     "text": [
      "iii - Mean Absolute Error: 0.069\n"
     ]
    }
   ],
   "source": [
    "# Mean Absolute Error\n",
    "\n",
    "#mean_absolute_error\n",
    "mae_svr_model3 = mean_absolute_error(y_test, y_predict_svm)\n",
    "print(\"iii - Mean Absolute Error:\", round(mae_svr_model3, 3))"
   ]
  },
  {
   "cell_type": "code",
   "execution_count": 35,
   "id": "95c59746",
   "metadata": {},
   "outputs": [
    {
     "name": "stdout",
     "output_type": "stream",
     "text": [
      "i - Mean Squared Error: 0.009\n",
      "ii - Root Mean Squared Error: 0.093\n",
      "iii - Mean Absolute Error: 0.069\n"
     ]
    }
   ],
   "source": [
    "\n",
    "print(\"i - Mean Squared Error:\", round(mse_svr_model3, 3))\n",
    "print(\"ii - Root Mean Squared Error:\", round(rmse_svr_model3, 3))\n",
    "print(\"iii - Mean Absolute Error:\", round(mae_svr_model3, 3))"
   ]
  },
  {
   "cell_type": "markdown",
   "id": "4128652a",
   "metadata": {},
   "source": [
    "# Implementation of Random Forest Regressor"
   ]
  },
  {
   "cell_type": "code",
   "execution_count": 36,
   "id": "fc1b613f",
   "metadata": {},
   "outputs": [],
   "source": [
    "#Assigning x as an input and y as an Output\n",
    "x_model2= dataset.iloc[:,1:-20]\n",
    "y=dataset[['CGPA']]"
   ]
  },
  {
   "cell_type": "code",
   "execution_count": 37,
   "id": "9f430d4f",
   "metadata": {},
   "outputs": [],
   "source": [
    "# Filling Empty Cells\n",
    "for col in x_model2.columns:\n",
    "    x_model2[f'{col}'].fillna(x[f'{col}'].mode()[0], inplace = True)"
   ]
  },
  {
   "cell_type": "code",
   "execution_count": 38,
   "id": "60942f2d",
   "metadata": {},
   "outputs": [],
   "source": [
    "\n",
    "\n",
    "# Ordinal encoding\n",
    "X = {'A+': 15, 'A': 14, 'A-': 13, 'B+': 12, 'B': 11, 'B-': 10,\n",
    "    'C+': 9, 'C': 8, 'C-': 7, 'D+': 6, 'D': 5, 'F': 4,\n",
    "     'I' : 3, 'W': 2, 'WU': 1}        \n",
    "x_model2 = x_model2.replace(X)\n"
   ]
  },
  {
   "cell_type": "code",
   "execution_count": 39,
   "id": "01fde990",
   "metadata": {},
   "outputs": [],
   "source": [
    "\n",
    "x_train,x_test,y_train,y_test=train_test_split(x_model2,y,test_size=0.2)"
   ]
  },
  {
   "cell_type": "code",
   "execution_count": 41,
   "id": "b657df6d",
   "metadata": {},
   "outputs": [
    {
     "name": "stderr",
     "output_type": "stream",
     "text": [
      "C:\\Users\\goswa\\anaconda3\\Lib\\site-packages\\sklearn\\base.py:1151: DataConversionWarning: A column-vector y was passed when a 1d array was expected. Please change the shape of y to (n_samples,), for example using ravel().\n",
      "  return fit_method(estimator, *args, **kwargs)\n"
     ]
    },
    {
     "data": {
      "text/html": [
       "<style>#sk-container-id-3 {color: black;}#sk-container-id-3 pre{padding: 0;}#sk-container-id-3 div.sk-toggleable {background-color: white;}#sk-container-id-3 label.sk-toggleable__label {cursor: pointer;display: block;width: 100%;margin-bottom: 0;padding: 0.3em;box-sizing: border-box;text-align: center;}#sk-container-id-3 label.sk-toggleable__label-arrow:before {content: \"▸\";float: left;margin-right: 0.25em;color: #696969;}#sk-container-id-3 label.sk-toggleable__label-arrow:hover:before {color: black;}#sk-container-id-3 div.sk-estimator:hover label.sk-toggleable__label-arrow:before {color: black;}#sk-container-id-3 div.sk-toggleable__content {max-height: 0;max-width: 0;overflow: hidden;text-align: left;background-color: #f0f8ff;}#sk-container-id-3 div.sk-toggleable__content pre {margin: 0.2em;color: black;border-radius: 0.25em;background-color: #f0f8ff;}#sk-container-id-3 input.sk-toggleable__control:checked~div.sk-toggleable__content {max-height: 200px;max-width: 100%;overflow: auto;}#sk-container-id-3 input.sk-toggleable__control:checked~label.sk-toggleable__label-arrow:before {content: \"▾\";}#sk-container-id-3 div.sk-estimator input.sk-toggleable__control:checked~label.sk-toggleable__label {background-color: #d4ebff;}#sk-container-id-3 div.sk-label input.sk-toggleable__control:checked~label.sk-toggleable__label {background-color: #d4ebff;}#sk-container-id-3 input.sk-hidden--visually {border: 0;clip: rect(1px 1px 1px 1px);clip: rect(1px, 1px, 1px, 1px);height: 1px;margin: -1px;overflow: hidden;padding: 0;position: absolute;width: 1px;}#sk-container-id-3 div.sk-estimator {font-family: monospace;background-color: #f0f8ff;border: 1px dotted black;border-radius: 0.25em;box-sizing: border-box;margin-bottom: 0.5em;}#sk-container-id-3 div.sk-estimator:hover {background-color: #d4ebff;}#sk-container-id-3 div.sk-parallel-item::after {content: \"\";width: 100%;border-bottom: 1px solid gray;flex-grow: 1;}#sk-container-id-3 div.sk-label:hover label.sk-toggleable__label {background-color: #d4ebff;}#sk-container-id-3 div.sk-serial::before {content: \"\";position: absolute;border-left: 1px solid gray;box-sizing: border-box;top: 0;bottom: 0;left: 50%;z-index: 0;}#sk-container-id-3 div.sk-serial {display: flex;flex-direction: column;align-items: center;background-color: white;padding-right: 0.2em;padding-left: 0.2em;position: relative;}#sk-container-id-3 div.sk-item {position: relative;z-index: 1;}#sk-container-id-3 div.sk-parallel {display: flex;align-items: stretch;justify-content: center;background-color: white;position: relative;}#sk-container-id-3 div.sk-item::before, #sk-container-id-3 div.sk-parallel-item::before {content: \"\";position: absolute;border-left: 1px solid gray;box-sizing: border-box;top: 0;bottom: 0;left: 50%;z-index: -1;}#sk-container-id-3 div.sk-parallel-item {display: flex;flex-direction: column;z-index: 1;position: relative;background-color: white;}#sk-container-id-3 div.sk-parallel-item:first-child::after {align-self: flex-end;width: 50%;}#sk-container-id-3 div.sk-parallel-item:last-child::after {align-self: flex-start;width: 50%;}#sk-container-id-3 div.sk-parallel-item:only-child::after {width: 0;}#sk-container-id-3 div.sk-dashed-wrapped {border: 1px dashed gray;margin: 0 0.4em 0.5em 0.4em;box-sizing: border-box;padding-bottom: 0.4em;background-color: white;}#sk-container-id-3 div.sk-label label {font-family: monospace;font-weight: bold;display: inline-block;line-height: 1.2em;}#sk-container-id-3 div.sk-label-container {text-align: center;}#sk-container-id-3 div.sk-container {/* jupyter's `normalize.less` sets `[hidden] { display: none; }` but bootstrap.min.css set `[hidden] { display: none !important; }` so we also need the `!important` here to be able to override the default hidden behavior on the sphinx rendered scikit-learn.org. See: https://github.com/scikit-learn/scikit-learn/issues/21755 */display: inline-block !important;position: relative;}#sk-container-id-3 div.sk-text-repr-fallback {display: none;}</style><div id=\"sk-container-id-3\" class=\"sk-top-container\"><div class=\"sk-text-repr-fallback\"><pre>RandomForestRegressor(random_state=0)</pre><b>In a Jupyter environment, please rerun this cell to show the HTML representation or trust the notebook. <br />On GitHub, the HTML representation is unable to render, please try loading this page with nbviewer.org.</b></div><div class=\"sk-container\" hidden><div class=\"sk-item\"><div class=\"sk-estimator sk-toggleable\"><input class=\"sk-toggleable__control sk-hidden--visually\" id=\"sk-estimator-id-3\" type=\"checkbox\" checked><label for=\"sk-estimator-id-3\" class=\"sk-toggleable__label sk-toggleable__label-arrow\">RandomForestRegressor</label><div class=\"sk-toggleable__content\"><pre>RandomForestRegressor(random_state=0)</pre></div></div></div></div></div>"
      ],
      "text/plain": [
       "RandomForestRegressor(random_state=0)"
      ]
     },
     "execution_count": 41,
     "metadata": {},
     "output_type": "execute_result"
    }
   ],
   "source": [
    "# Fitting Random Forest Regression to the dataset\n",
    "# create regressor object\n",
    "regressor_rf = RandomForestRegressor(n_estimators = 100, random_state = 0)\n",
    "# fit the regressor with x and y data\n",
    "regressor_rf.fit(x_model2, y)"
   ]
  },
  {
   "cell_type": "code",
   "execution_count": 42,
   "id": "586bd7af",
   "metadata": {},
   "outputs": [
    {
     "name": "stdout",
     "output_type": "stream",
     "text": [
      "Training Score: 98.719 %\n"
     ]
    }
   ],
   "source": [
    "regressor_rf_score = regressor_rf.score(x_train, y_train)\n",
    "print('Training Score:' , round(regressor_rf_score*100, 3) , '%')"
   ]
  },
  {
   "cell_type": "code",
   "execution_count": 43,
   "id": "d28b9b07",
   "metadata": {},
   "outputs": [],
   "source": [
    "y_predict_rf = regressor_rf.predict(x_test)"
   ]
  },
  {
   "cell_type": "code",
   "execution_count": 44,
   "id": "613584d0",
   "metadata": {},
   "outputs": [
    {
     "name": "stdout",
     "output_type": "stream",
     "text": [
      "Testing Score: 98.359 %\n"
     ]
    }
   ],
   "source": [
    "regressor_rf_score = regressor_rf.score(x_test, y_test)\n",
    "print('Testing Score:' , round(regressor_rf_score*100, 3) , '%')"
   ]
  },
  {
   "cell_type": "code",
   "execution_count": 45,
   "id": "b544c7ef",
   "metadata": {},
   "outputs": [
    {
     "name": "stdout",
     "output_type": "stream",
     "text": [
      "Enter grade of: \n",
      "PH-121: 5\n",
      "Enter grade of: \n",
      "HS-101: 6\n",
      "Enter grade of: \n",
      "CY-105: 7\n",
      "Enter grade of: \n",
      "HS-105/12: 4\n",
      "Enter grade of: \n",
      "MT-111: 6\n",
      "Enter grade of: \n",
      "CS-105: 7\n",
      "Enter grade of: \n",
      "CS-106: 4\n",
      "Enter grade of: \n",
      "EL-102: 6\n",
      "Enter grade of: \n",
      "EE-119: 7\n",
      "Enter grade of: \n",
      "ME-107: 4\n",
      "Enter grade of: \n",
      "CS-107: 6\n",
      "Enter grade of: \n",
      "HS-205/20: 7\n",
      "Enter grade of: \n",
      "MT-222: 8\n",
      "Enter grade of: \n",
      "EE-222: 7\n",
      "Enter grade of: \n",
      "MT-224: 6\n",
      "Enter grade of: \n",
      "CS-210: 5\n",
      "Enter grade of: \n",
      "CS-211: 6\n",
      "Enter grade of: \n",
      "CS-203: 7\n",
      "Enter grade of: \n",
      "CS-214: 8\n",
      "Enter grade of: \n",
      "EE-217: 7\n",
      "Enter grade of: \n",
      "CS-212: 6\n",
      "Enter grade of: \n",
      "CS-215: 5\n",
      "CGPA:  1.714\n"
     ]
    },
    {
     "name": "stderr",
     "output_type": "stream",
     "text": [
      "C:\\Users\\goswa\\anaconda3\\Lib\\site-packages\\sklearn\\base.py:464: UserWarning: X does not have valid feature names, but RandomForestRegressor was fitted with feature names\n",
      "  warnings.warn(\n"
     ]
    }
   ],
   "source": [
    "lst_rf = []\n",
    "x_col = x_model2.columns\n",
    "\n",
    "for i in x_col:\n",
    "  enter = int(input(f'Enter grade of: \\n{i}: '))\n",
    "  lst_rf.append(enter)\n",
    "lst_rf =[lst_rf]\n",
    "\n",
    "\n",
    "y_rf_predict1 = regressor_rf.predict(lst_rf)\n",
    "print('CGPA: ' , round(y_rf_predict1[0], 3))"
   ]
  },
  {
   "cell_type": "code",
   "execution_count": 46,
   "id": "34b2da0b",
   "metadata": {},
   "outputs": [
    {
     "name": "stdout",
     "output_type": "stream",
     "text": [
      "i - Mean Squared Error: 0.006\n"
     ]
    }
   ],
   "source": [
    "# <!-- Mean Squared Error -->\n",
    "\n",
    "mse_rf_model2 = mean_squared_error(y_test, y_predict_rf)\n",
    "print(\"i - Mean Squared Error:\", round(mse_rf_model2, 3))"
   ]
  },
  {
   "cell_type": "code",
   "execution_count": 47,
   "id": "0307d6f0",
   "metadata": {},
   "outputs": [
    {
     "name": "stdout",
     "output_type": "stream",
     "text": [
      "ii - Root Mean Squared Error: 0.076\n"
     ]
    }
   ],
   "source": [
    "# Root Mean Squared Error\n",
    "\n",
    "#root mean_squared_error\n",
    "rmse_rf_model2 = mean_squared_error(y_test, y_predict_rf, squared=False)\n",
    "print(\"ii - Root Mean Squared Error:\", round(rmse_rf_model2, 3))"
   ]
  },
  {
   "cell_type": "code",
   "execution_count": 48,
   "id": "7e71b256",
   "metadata": {},
   "outputs": [
    {
     "name": "stdout",
     "output_type": "stream",
     "text": [
      "iii - Mean Absolute Error: 0.048\n"
     ]
    }
   ],
   "source": [
    "# Mean Absolute Error\n",
    "\n",
    "#mean_absolute_error\n",
    "mae_rf_model2 = mean_absolute_error(y_test, y_predict_rf)\n",
    "print(\"iii - Mean Absolute Error:\", round(mae_rf_model2, 3))\n",
    "     "
   ]
  },
  {
   "cell_type": "code",
   "execution_count": 49,
   "id": "72288f4d",
   "metadata": {},
   "outputs": [
    {
     "name": "stdout",
     "output_type": "stream",
     "text": [
      "i - Mean Squared Error: 0.006\n",
      "ii - Root Mean Squared Error: 0.076\n",
      "iii - Mean Absolute Error: 0.048\n"
     ]
    }
   ],
   "source": [
    "\n",
    "print(\"i - Mean Squared Error:\", round(mse_rf_model2, 3))\n",
    "print(\"ii - Root Mean Squared Error:\", round(rmse_rf_model2, 3))\n",
    "print(\"iii - Mean Absolute Error:\", round(mae_rf_model2, 3))"
   ]
  },
  {
   "cell_type": "markdown",
   "id": "82a39ae8",
   "metadata": {},
   "source": [
    "# Implementation of Linear Regression"
   ]
  },
  {
   "cell_type": "code",
   "execution_count": 50,
   "id": "863ad008",
   "metadata": {},
   "outputs": [
    {
     "data": {
      "text/html": [
       "<style>#sk-container-id-4 {color: black;}#sk-container-id-4 pre{padding: 0;}#sk-container-id-4 div.sk-toggleable {background-color: white;}#sk-container-id-4 label.sk-toggleable__label {cursor: pointer;display: block;width: 100%;margin-bottom: 0;padding: 0.3em;box-sizing: border-box;text-align: center;}#sk-container-id-4 label.sk-toggleable__label-arrow:before {content: \"▸\";float: left;margin-right: 0.25em;color: #696969;}#sk-container-id-4 label.sk-toggleable__label-arrow:hover:before {color: black;}#sk-container-id-4 div.sk-estimator:hover label.sk-toggleable__label-arrow:before {color: black;}#sk-container-id-4 div.sk-toggleable__content {max-height: 0;max-width: 0;overflow: hidden;text-align: left;background-color: #f0f8ff;}#sk-container-id-4 div.sk-toggleable__content pre {margin: 0.2em;color: black;border-radius: 0.25em;background-color: #f0f8ff;}#sk-container-id-4 input.sk-toggleable__control:checked~div.sk-toggleable__content {max-height: 200px;max-width: 100%;overflow: auto;}#sk-container-id-4 input.sk-toggleable__control:checked~label.sk-toggleable__label-arrow:before {content: \"▾\";}#sk-container-id-4 div.sk-estimator input.sk-toggleable__control:checked~label.sk-toggleable__label {background-color: #d4ebff;}#sk-container-id-4 div.sk-label input.sk-toggleable__control:checked~label.sk-toggleable__label {background-color: #d4ebff;}#sk-container-id-4 input.sk-hidden--visually {border: 0;clip: rect(1px 1px 1px 1px);clip: rect(1px, 1px, 1px, 1px);height: 1px;margin: -1px;overflow: hidden;padding: 0;position: absolute;width: 1px;}#sk-container-id-4 div.sk-estimator {font-family: monospace;background-color: #f0f8ff;border: 1px dotted black;border-radius: 0.25em;box-sizing: border-box;margin-bottom: 0.5em;}#sk-container-id-4 div.sk-estimator:hover {background-color: #d4ebff;}#sk-container-id-4 div.sk-parallel-item::after {content: \"\";width: 100%;border-bottom: 1px solid gray;flex-grow: 1;}#sk-container-id-4 div.sk-label:hover label.sk-toggleable__label {background-color: #d4ebff;}#sk-container-id-4 div.sk-serial::before {content: \"\";position: absolute;border-left: 1px solid gray;box-sizing: border-box;top: 0;bottom: 0;left: 50%;z-index: 0;}#sk-container-id-4 div.sk-serial {display: flex;flex-direction: column;align-items: center;background-color: white;padding-right: 0.2em;padding-left: 0.2em;position: relative;}#sk-container-id-4 div.sk-item {position: relative;z-index: 1;}#sk-container-id-4 div.sk-parallel {display: flex;align-items: stretch;justify-content: center;background-color: white;position: relative;}#sk-container-id-4 div.sk-item::before, #sk-container-id-4 div.sk-parallel-item::before {content: \"\";position: absolute;border-left: 1px solid gray;box-sizing: border-box;top: 0;bottom: 0;left: 50%;z-index: -1;}#sk-container-id-4 div.sk-parallel-item {display: flex;flex-direction: column;z-index: 1;position: relative;background-color: white;}#sk-container-id-4 div.sk-parallel-item:first-child::after {align-self: flex-end;width: 50%;}#sk-container-id-4 div.sk-parallel-item:last-child::after {align-self: flex-start;width: 50%;}#sk-container-id-4 div.sk-parallel-item:only-child::after {width: 0;}#sk-container-id-4 div.sk-dashed-wrapped {border: 1px dashed gray;margin: 0 0.4em 0.5em 0.4em;box-sizing: border-box;padding-bottom: 0.4em;background-color: white;}#sk-container-id-4 div.sk-label label {font-family: monospace;font-weight: bold;display: inline-block;line-height: 1.2em;}#sk-container-id-4 div.sk-label-container {text-align: center;}#sk-container-id-4 div.sk-container {/* jupyter's `normalize.less` sets `[hidden] { display: none; }` but bootstrap.min.css set `[hidden] { display: none !important; }` so we also need the `!important` here to be able to override the default hidden behavior on the sphinx rendered scikit-learn.org. See: https://github.com/scikit-learn/scikit-learn/issues/21755 */display: inline-block !important;position: relative;}#sk-container-id-4 div.sk-text-repr-fallback {display: none;}</style><div id=\"sk-container-id-4\" class=\"sk-top-container\"><div class=\"sk-text-repr-fallback\"><pre>LinearRegression()</pre><b>In a Jupyter environment, please rerun this cell to show the HTML representation or trust the notebook. <br />On GitHub, the HTML representation is unable to render, please try loading this page with nbviewer.org.</b></div><div class=\"sk-container\" hidden><div class=\"sk-item\"><div class=\"sk-estimator sk-toggleable\"><input class=\"sk-toggleable__control sk-hidden--visually\" id=\"sk-estimator-id-4\" type=\"checkbox\" checked><label for=\"sk-estimator-id-4\" class=\"sk-toggleable__label sk-toggleable__label-arrow\">LinearRegression</label><div class=\"sk-toggleable__content\"><pre>LinearRegression()</pre></div></div></div></div></div>"
      ],
      "text/plain": [
       "LinearRegression()"
      ]
     },
     "execution_count": 50,
     "metadata": {},
     "output_type": "execute_result"
    }
   ],
   "source": [
    "model_2_LR = LinearRegression()\n",
    "model_2_LR.fit(x_train,y_train)\n",
    "     "
   ]
  },
  {
   "cell_type": "code",
   "execution_count": 51,
   "id": "de9f4c65",
   "metadata": {},
   "outputs": [
    {
     "name": "stdout",
     "output_type": "stream",
     "text": [
      "Training Score: 91.417 %\n"
     ]
    }
   ],
   "source": [
    "model_2_LR_score = model_2_LR.score(x_train, y_train)\n",
    "print('Training Score:' , round(model_2_LR_score*100, 3) , '%')"
   ]
  },
  {
   "cell_type": "code",
   "execution_count": 52,
   "id": "5ce4d54e",
   "metadata": {},
   "outputs": [],
   "source": [
    "\n",
    "y_LR_2 = model_2_LR.predict(x_test)\n",
    "     "
   ]
  },
  {
   "cell_type": "code",
   "execution_count": 53,
   "id": "0a14a994",
   "metadata": {},
   "outputs": [],
   "source": [
    "model_2_LR_score = model_2_LR.score(x_test, y_test)"
   ]
  },
  {
   "cell_type": "code",
   "execution_count": 54,
   "id": "f8209949",
   "metadata": {},
   "outputs": [
    {
     "name": "stdout",
     "output_type": "stream",
     "text": [
      "Enter grade of: \n",
      "PH-121: 5\n",
      "Enter grade of: \n",
      "HS-101: 6\n",
      "Enter grade of: \n",
      "CY-105: 7\n",
      "Enter grade of: \n",
      "HS-105/12: 4\n",
      "Enter grade of: \n",
      "MT-111: 5\n",
      "Enter grade of: \n",
      "CS-105: 6\n",
      "Enter grade of: \n",
      "CS-106: 7\n",
      "Enter grade of: \n",
      "EL-102: 8\n",
      "Enter grade of: \n",
      "EE-119: 7\n",
      "Enter grade of: \n",
      "ME-107: 6\n",
      "Enter grade of: \n",
      "CS-107: 5\n",
      "Enter grade of: \n",
      "HS-205/20: 4\n",
      "Enter grade of: \n",
      "MT-222: 5\n",
      "Enter grade of: \n",
      "EE-222: 6\n",
      "Enter grade of: \n",
      "MT-224: 7\n",
      "Enter grade of: \n",
      "CS-210: 8\n",
      "Enter grade of: \n",
      "CS-211: 7\n",
      "Enter grade of: \n",
      "CS-203: 6\n",
      "Enter grade of: \n",
      "CS-214: 5\n",
      "Enter grade of: \n",
      "EE-217: 4\n",
      "Enter grade of: \n",
      "CS-212: 5\n",
      "Enter grade of: \n",
      "CS-215: 6\n",
      "CGPA:  1.457\n"
     ]
    },
    {
     "name": "stderr",
     "output_type": "stream",
     "text": [
      "C:\\Users\\goswa\\anaconda3\\Lib\\site-packages\\sklearn\\base.py:464: UserWarning: X does not have valid feature names, but LinearRegression was fitted with feature names\n",
      "  warnings.warn(\n"
     ]
    }
   ],
   "source": [
    "lst_LR = []\n",
    "x_col = x_model2.columns\n",
    "\n",
    "for i in x_col:\n",
    "  enter = int(input(f'Enter grade of: \\n{i}: '))\n",
    "  lst_LR.append(enter)\n",
    "lst_LR =[lst_LR]\n",
    "\n",
    "\n",
    "lst_LR_predict=model_2_LR.predict(lst_LR)\n",
    "lim_gpa2=np.clip(lst_LR_predict[0][0], a_min = 0, a_max = 4)\n",
    "print('CGPA: ' , round(lim_gpa2, 3))\n"
   ]
  },
  {
   "cell_type": "code",
   "execution_count": 55,
   "id": "9e31a4eb",
   "metadata": {},
   "outputs": [
    {
     "name": "stdout",
     "output_type": "stream",
     "text": [
      "i - Mean Squared Error: 0.043\n"
     ]
    }
   ],
   "source": [
    "# Mean Squared Error\n",
    "\n",
    "# mean_squared_error\n",
    "mse_lr_model2 = mean_squared_error(y_test, y_LR_2)\n",
    "print(\"i - Mean Squared Error:\", round(mse_lr_model2, 3))\n"
   ]
  },
  {
   "cell_type": "code",
   "execution_count": 56,
   "id": "10005dad",
   "metadata": {},
   "outputs": [
    {
     "name": "stdout",
     "output_type": "stream",
     "text": [
      "ii - Root Mean Squared Error: 0.207\n"
     ]
    }
   ],
   "source": [
    "# Root Mean Squared Error\n",
    "\n",
    "#root mean_squared_error\n",
    "rmse_lr_model2 = mean_squared_error(y_test, y_LR_2, squared=False)\n",
    "print(\"ii - Root Mean Squared Error:\", round(rmse_lr_model2, 3))\n"
   ]
  },
  {
   "cell_type": "code",
   "execution_count": 57,
   "id": "6e533600",
   "metadata": {},
   "outputs": [
    {
     "name": "stdout",
     "output_type": "stream",
     "text": [
      "iii - Mean Absolute Error: 0.122\n"
     ]
    }
   ],
   "source": [
    "# iii) Mean Absolute~ Error\n",
    "\n",
    "#mean_absolute_error\n",
    "mae_lr_model2 = mean_absolute_error(y_test, y_LR_2)\n",
    "print(\"iii - Mean Absolute Error:\", round(mae_lr_model2, 3))\n"
   ]
  },
  {
   "cell_type": "code",
   "execution_count": 59,
   "id": "8fe28cf4",
   "metadata": {},
   "outputs": [
    {
     "name": "stdout",
     "output_type": "stream",
     "text": [
      "i - Mean Squared Error: 0.043\n",
      "ii - Root Mean Squared Error: 0.207\n",
      "iii - Mean Absolute Error: 0.122\n"
     ]
    }
   ],
   "source": [
    "print(\"i - Mean Squared Error:\", round(mse_lr_model2, 3))\n",
    "print(\"ii - Root Mean Squared Error:\", round(rmse_lr_model2, 3))\n",
    "print(\"iii - Mean Absolute Error:\", round(mae_lr_model2, 3))"
   ]
  },
  {
   "cell_type": "markdown",
   "id": "6bc229f4",
   "metadata": {},
   "source": [
    "\n",
    "# Comparision of Two Models"
   ]
  },
  {
   "cell_type": "code",
   "execution_count": 60,
   "id": "5b05e471",
   "metadata": {},
   "outputs": [
    {
     "data": {
      "image/png": "[encoded data removed]",
      "text/plain": [
       "<Figure size 640x480 with 1 Axes>"
      ]
     },
     "metadata": {},
     "output_type": "display_data"
    }
   ],
   "source": [
    "xcords = np.array(['Mean Squared Error', 'Root Mean Squared Error','Mean Absolute Error'])\n",
    "ycords1 = np.array([mse_lr_model3, rmse_lr_model3, mae_lr_model3])\n",
    "ycords2 = np.array([mse_svr_model3, rmse_svr_model3, mae_svr_model3])\n",
    "ycords3 = np.array([mse_rf_model2, rmse_rf_model2, mae_rf_model2])\n",
    "ycords4 = np.array([mse_lr_model2, rmse_lr_model2, mae_lr_model2])\n",
    "plt.plot(xcords, ycords1,  label=\"Lin Reg - Model 3\", marker='o')\n",
    "plt.plot(xcords, ycords2,  label=\"SVM - Model 3\", marker='o')\n",
    "plt.plot(xcords, ycords3,  label=\"Rand Forest - Model 2\", linestyle=\"--\", marker='o')   #The graph is showing Comparison between different algorithm learned on a same dataset\n",
    "plt.plot(xcords, ycords4,  label=\"Lin Reg - Model 2\", marker='o', linestyle=\"--\")       #The errors are just compared \n",
    "\n",
    "plt.legend()\n",
    "plt.show()\n",
    "\n"
   ]
  },
  {
   "cell_type": "code",
   "execution_count": null,
   "id": "69729a4e",
   "metadata": {},
   "outputs": [],
   "source": [
    "~"
   ]
  }
 ],
 "metadata": {
  "kernelspec": {
   "display_name": "Python 3 (ipykernel)",
   "language": "python",
   "name": "python3"
  },
  "language_info": {
   "codemirror_mode": {
    "name": "ipython",
    "version": 3
   },
   "file_extension": ".py",
   "mimetype": "text/x-python",
   "name": "python",
   "nbconvert_exporter": "python",
   "pygments_lexer": "ipython3",
   "version": "3.11.5"
  }
 },
 "nbformat": 4,
 "nbformat_minor": 5
}
